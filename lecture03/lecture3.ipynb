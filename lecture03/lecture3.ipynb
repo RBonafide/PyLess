{
 "cells": [
  {
   "cell_type": "markdown",
   "metadata": {},
   "source": [
    "# Лекция 3. Коллекции.\n",
    "\n",
    "* Списки\n",
    "* Кортежи\n",
    "* Особенности присваивания"
   ]
  },
  {
   "cell_type": "markdown",
   "metadata": {},
   "source": [
    "# Немного о строках\n",
    "\n",
    "> `ord('a'), chr(117)` - получить код символа и символ по коду"
   ]
  },
  {
   "cell_type": "code",
   "execution_count": 2,
   "metadata": {},
   "outputs": [
    {
     "name": "stdout",
     "output_type": "stream",
     "text": [
      "1103\n"
     ]
    }
   ],
   "source": [
    "print(ord('я'))"
   ]
  },
  {
   "cell_type": "code",
   "execution_count": 3,
   "metadata": {},
   "outputs": [
    {
     "name": "stdout",
     "output_type": "stream",
     "text": [
      "я\n"
     ]
    }
   ],
   "source": [
    "print(chr(1103))"
   ]
  },
  {
   "cell_type": "markdown",
   "metadata": {},
   "source": [
    "В Python 3.6+ появились, так называемые, f-строки"
   ]
  },
  {
   "cell_type": "code",
   "execution_count": 1,
   "metadata": {},
   "outputs": [
    {
     "data": {
      "text/plain": [
       "'Много текста 000002.500'"
      ]
     },
     "execution_count": 1,
     "metadata": {},
     "output_type": "execute_result"
    }
   ],
   "source": [
    "a = 5 / 2\n",
    "m = f\"Много текста {a:010.3f}\"\n",
    "m"
   ]
  },
  {
   "cell_type": "markdown",
   "metadata": {},
   "source": [
    "# Списки и кортежи\n",
    "\n",
    "> __Список (list)__ - это изменяемый упорядоченный набор данных\n",
    "\n",
    "Создать список очень просто. Достаточно использовать литерал __\"[]\"__ или __\"list()\"__"
   ]
  },
  {
   "cell_type": "code",
   "execution_count": 4,
   "metadata": {},
   "outputs": [
    {
     "name": "stdout",
     "output_type": "stream",
     "text": [
      "['h', 'e', 'l', 'l', 'o', ' ', 'w', 'o', 'r', 'l', 'd']\n",
      "[0, 1, 2, 3, 4, 5, 6, 7, 8, 9]\n"
     ]
    }
   ],
   "source": [
    "# создать пустой список\n",
    "a = []\n",
    "\n",
    "# создать список из разных элементов\n",
    "a = [1, 2, \"text\"]\n",
    "\n",
    "# а можем даже список из списков\n",
    "a = [\n",
    "    [1, 2, 3],\n",
    "    [4, 5, 6],\n",
    "    [7, 8, 9],\n",
    "]\n",
    "\n",
    "# а можем создать из любого итерируемого объекта\n",
    "a = list(\"hello world\")\n",
    "print(a)\n",
    "\n",
    "a = list(range(10))\n",
    "print(a)"
   ]
  },
  {
   "cell_type": "code",
   "execution_count": 5,
   "metadata": {},
   "outputs": [
    {
     "name": "stdout",
     "output_type": "stream",
     "text": [
      "[0, 1, 55, 3, 4, 5, 6, 7, 8, 9]\n"
     ]
    }
   ],
   "source": [
    "a[2] = 55\n",
    "print(a)"
   ]
  },
  {
   "cell_type": "markdown",
   "metadata": {},
   "source": [
    "> __Кортеж (tuple)__ - это неизменяемый упорядоченный набор данных\n",
    "\n",
    "Создать кортеж на столько же просто - для этого есть литерал __\"()\"__ и __\"tuple()\"__"
   ]
  },
  {
   "cell_type": "code",
   "execution_count": 8,
   "metadata": {},
   "outputs": [
    {
     "name": "stdout",
     "output_type": "stream",
     "text": [
      "('h', 'e', 'l', 'l', 'o')\n",
      "(1, 2, 3)\n",
      "(1, 2, 'ggg')\n"
     ]
    }
   ],
   "source": [
    "# Пустой кортеж\n",
    "a = ()\n",
    "\n",
    "# Из нескольких элементов\n",
    "a = (1, 2, \"text\")\n",
    "\n",
    "# Даже кортеж из кортежей\n",
    "a = (\n",
    "    ('1', 2, '3'),\n",
    "    (5, 2),\n",
    "    []\n",
    ")\n",
    "\n",
    "# и также можем из любого итерируемого объекта\n",
    "a = tuple(\"hello\")\n",
    "print(a)\n",
    "\n",
    "# это включает и списки\n",
    "a = tuple([1, 2, 3])\n",
    "print(a)\n",
    "\n",
    "# И чтобы запутать наверняка. Перечесление элементов через запятую создает кортеж\n",
    "a = 1, 2, \"ggg\",\n",
    "print(a)"
   ]
  },
  {
   "cell_type": "code",
   "execution_count": 3,
   "metadata": {},
   "outputs": [
    {
     "name": "stdout",
     "output_type": "stream",
     "text": [
      "5\n"
     ]
    }
   ],
   "source": [
    "# а теперь нюанс создания кортежа\n",
    "\n",
    "a = (5)\n",
    "\n",
    "# Какой результат?\n",
    "print(a)"
   ]
  },
  {
   "cell_type": "code",
   "execution_count": 10,
   "metadata": {},
   "outputs": [
    {
     "name": "stdout",
     "output_type": "stream",
     "text": [
      "(5,)\n"
     ]
    }
   ],
   "source": [
    "# Правильно будет\n",
    "\n",
    "a = (5,)\n",
    "print(a)"
   ]
  },
  {
   "cell_type": "markdown",
   "metadata": {},
   "source": [
    "> __Рекомендация:__ ставьте запятую после последнего элемента в списках или кортежах (как и в словарях далее) "
   ]
  },
  {
   "cell_type": "code",
   "execution_count": 5,
   "metadata": {},
   "outputs": [
    {
     "name": "stdout",
     "output_type": "stream",
     "text": [
      "[1, 2, 3]\n"
     ]
    }
   ],
   "source": [
    "a = [\n",
    "    1, \n",
    "    2, \n",
    "    3,\n",
    "]\n",
    "print(a)"
   ]
  },
  {
   "cell_type": "markdown",
   "metadata": {},
   "source": [
    "Действия над списками и кортежами почти идентичны (они возвращают новый объект, не меняя оригинал)\n",
    "- `a[0], a[5:]` - индексация и срезы\n",
    "- `(1,2) + (3,4)` - конкатенация\n",
    "- `a*4` - повторение\n",
    "- `len(a)` - количество элементов в коллекции\n",
    "- `1 in a` - проверка на вхождение объекта в коллекцию\n",
    "- `a.index('HI'), a.count('HI') ` - найти индекс/количество вхождений элемента равного `'HI'`"
   ]
  },
  {
   "cell_type": "markdown",
   "metadata": {},
   "source": [
    "Теперь рассмотрим, чем же они отличаются"
   ]
  },
  {
   "cell_type": "code",
   "execution_count": 9,
   "metadata": {},
   "outputs": [
    {
     "name": "stdout",
     "output_type": "stream",
     "text": [
      "[1, 7, 3]\n"
     ]
    }
   ],
   "source": [
    "# Мы можем сделать так со списками\n",
    "a = [1, 2, 3]\n",
    "a[1] = 7\n",
    "print(a)"
   ]
  },
  {
   "cell_type": "code",
   "execution_count": 10,
   "metadata": {},
   "outputs": [
    {
     "ename": "TypeError",
     "evalue": "'tuple' object does not support item assignment",
     "output_type": "error",
     "traceback": [
      "\u001b[1;31m---------------------------------------------------------------------------\u001b[0m",
      "\u001b[1;31mTypeError\u001b[0m                                 Traceback (most recent call last)",
      "Cell \u001b[1;32mIn[10], line 3\u001b[0m\n\u001b[0;32m      1\u001b[0m \u001b[38;5;66;03m# Но не можем сделать с кортежами (мы не можем привязать элемент к новому объекту!)\u001b[39;00m\n\u001b[0;32m      2\u001b[0m a \u001b[38;5;241m=\u001b[39m (\u001b[38;5;241m1\u001b[39m, \u001b[38;5;241m2\u001b[39m, \u001b[38;5;241m3\u001b[39m)\n\u001b[1;32m----> 3\u001b[0m a[\u001b[38;5;241m1\u001b[39m] \u001b[38;5;241m=\u001b[39m \u001b[38;5;241m7\u001b[39m\n\u001b[0;32m      4\u001b[0m \u001b[38;5;28mprint\u001b[39m(a)\n",
      "\u001b[1;31mTypeError\u001b[0m: 'tuple' object does not support item assignment"
     ]
    }
   ],
   "source": [
    "# Но не можем сделать с кортежами (мы не можем привязать элемент к новому объекту!)\n",
    "a = (1, 2, 3)\n",
    "a[1] = 7\n",
    "print(a)"
   ]
  },
  {
   "cell_type": "code",
   "execution_count": 19,
   "metadata": {},
   "outputs": [
    {
     "name": "stdout",
     "output_type": "stream",
     "text": [
      "(1, [7], 3)\n"
     ]
    }
   ],
   "source": [
    "# При этом можно сделать так\n",
    "\n",
    "a = (1, [2], 3)\n",
    "a[1][0] = 7\n",
    "print(a)\n",
    "\n",
    "# Это возможно благодаря тому, что мы не привязывали новый объект, мы просто изменили сам старый"
   ]
  },
  {
   "cell_type": "markdown",
   "metadata": {},
   "source": [
    "## Дополнительные операции для списков\n",
    "\n",
    "В связи с возможностью изменяться список поддерживает дополнительные операции (изменяется сам список)\n",
    "\n",
    "- `a.sort()` - сортировка списка по ключу\n",
    "- `a.append('text')` - добавить элемент в конец списка\n",
    "- `a.insert(5, 'text')` - вставить элемент на позицию 5, остальные подвинуть\n",
    "- `a.extend([2, 4, 6])` - добавить пачку элементов\n",
    "- `a.reverse(), a.clear()` - поменять порядок элементов, удалить все\n",
    "- `del a[1], del a[1:2], a[1:5] = []` - удалить конкретный элемент или элементы, замена участка\n",
    "- `a[1] = 4, , a[:2] = [1, 2, 3]` - изменить элемент/элементы\n",
    "- `a.copy()` - получить поверхностную копию списка"
   ]
  },
  {
   "cell_type": "code",
   "execution_count": 21,
   "metadata": {},
   "outputs": [
    {
     "name": "stdout",
     "output_type": "stream",
     "text": [
      "[7, 2, 3, 4]\n",
      "[7, 9, 9, 9, 9, 4]\n",
      "[7, 9, 9, 9, 9, 4, 'text']\n",
      "[13, 7, 9, 9, 9, 9, 4, 'text']\n",
      "[13, 9, 9, 4]\n",
      "[9, 9, 4]\n",
      "[9]\n",
      "[9]\n",
      "[9, 'new']\n"
     ]
    }
   ],
   "source": [
    "a = [1, 2, 3, 4]\n",
    "\n",
    "# изменить элемент\n",
    "a[0] = 7\n",
    "print(a)\n",
    "\n",
    "# замена интервала внутри списка\n",
    "a[1:3] = [9, 9, 9, 9]\n",
    "print(a)\n",
    "\n",
    "# добавляем новый элемент\n",
    "a.append(\"text\")\n",
    "print(a)\n",
    "a.insert(0, 13)\n",
    "print(a)\n",
    "\n",
    "# удаляем последний\n",
    "del a[::-2]\n",
    "print(a)\n",
    "# удаляем по значению\n",
    "a.remove(13)\n",
    "\n",
    "# сортировка\n",
    "a.sort(key=lambda x: 1/x)\n",
    "print(a)\n",
    "\n",
    "# Получить и удалить последний элемент\n",
    "v = a.pop()\n",
    "\n",
    "# Получить и удалить конкретный элемент по индексу\n",
    "v = a.pop(1)\n",
    "print(a)\n",
    "\n",
    "# сделать копию\n",
    "b = a[:]\n",
    "b = a.copy()\n",
    "b.append(\"new\")\n",
    "print(a)\n",
    "print(b)"
   ]
  },
  {
   "cell_type": "markdown",
   "metadata": {},
   "source": [
    "> `sorted()` - позволяет отсортировать любой итерируемый объект и возвращает новый экземпляр"
   ]
  },
  {
   "cell_type": "code",
   "execution_count": 26,
   "metadata": {},
   "outputs": [
    {
     "name": "stdout",
     "output_type": "stream",
     "text": [
      "6\n",
      "привет\n",
      "['в', 'е', 'и', 'п', 'р', 'т']\n"
     ]
    }
   ],
   "source": [
    "a = \"привет\"\n",
    "b = sorted(a)\n",
    "print(len(a))\n",
    "print(a)\n",
    "print(b)"
   ]
  },
  {
   "cell_type": "markdown",
   "metadata": {},
   "source": [
    "# Особенности присваивания\n",
    "\n",
    "Мы уже знакомы с самой простой формой присваивания"
   ]
  },
  {
   "cell_type": "code",
   "execution_count": 14,
   "metadata": {},
   "outputs": [],
   "source": [
    "a = 5\n",
    "a = b = 6"
   ]
  },
  {
   "cell_type": "markdown",
   "metadata": {},
   "source": [
    "При этом существуют более сложные формы для данного оператора. Например, позиционное присваивание кортежа"
   ]
  },
  {
   "cell_type": "code",
   "execution_count": 20,
   "metadata": {},
   "outputs": [
    {
     "name": "stdout",
     "output_type": "stream",
     "text": [
      "a = 6\n",
      "b = 7\n"
     ]
    }
   ],
   "source": [
    "a, b = 6, 7\n",
    "print(f\"a = {a}\")\n",
    "print(f\"b = {b}\")"
   ]
  },
  {
   "cell_type": "code",
   "execution_count": 21,
   "metadata": {},
   "outputs": [
    {
     "name": "stdout",
     "output_type": "stream",
     "text": [
      "a = 7\n",
      "b = 6\n"
     ]
    }
   ],
   "source": [
    "# задача поменять значений переменных местами делается в одну строку\n",
    "a, b = b, a\n",
    "print(f\"a = {a}\")\n",
    "print(f\"b = {b}\")"
   ]
  },
  {
   "cell_type": "markdown",
   "metadata": {},
   "source": [
    "Тоже самое работает со списками"
   ]
  },
  {
   "cell_type": "code",
   "execution_count": 29,
   "metadata": {},
   "outputs": [
    {
     "name": "stdout",
     "output_type": "stream",
     "text": [
      "a = 10\n",
      "b = 14\n"
     ]
    }
   ],
   "source": [
    "[a, b] = [10, 14]\n",
    "print(f\"a = {a}\")\n",
    "print(f\"b = {b}\")"
   ]
  },
  {
   "cell_type": "markdown",
   "metadata": {},
   "source": [
    "На самом деле, это работает с любыми последовательностями. Важно только, чтобы количество элементов слева равнялось количеству элементов справа."
   ]
  },
  {
   "cell_type": "code",
   "execution_count": 30,
   "metadata": {},
   "outputs": [
    {
     "name": "stdout",
     "output_type": "stream",
     "text": [
      "a = p\n",
      "b = i\n",
      "c = n\n",
      "d = g\n"
     ]
    }
   ],
   "source": [
    "a, b, c, d = \"ping\"\n",
    "print(f\"a = {a}\")\n",
    "print(f\"b = {b}\")\n",
    "print(f\"c = {c}\")\n",
    "print(f\"d = {d}\")"
   ]
  },
  {
   "cell_type": "markdown",
   "metadata": {},
   "source": [
    "Это даже верно для вложенных коллекций"
   ]
  },
  {
   "cell_type": "code",
   "execution_count": 31,
   "metadata": {},
   "outputs": [
    {
     "name": "stdout",
     "output_type": "stream",
     "text": [
      "a = p\n",
      "b = i\n",
      "c = n\n",
      "d = g\n"
     ]
    }
   ],
   "source": [
    "s = \"ping\"\n",
    "(a, b), (c, d) = s[:2], s[2:]\n",
    "print(f\"a = {a}\")\n",
    "print(f\"b = {b}\")\n",
    "print(f\"c = {c}\")\n",
    "print(f\"d = {d}\")"
   ]
  },
  {
   "cell_type": "markdown",
   "metadata": {},
   "source": [
    "При этом существует расширенная форма присваивания, которая позволяет иметь различное количество символов"
   ]
  },
  {
   "cell_type": "code",
   "execution_count": 24,
   "metadata": {},
   "outputs": [
    {
     "ename": "ValueError",
     "evalue": "too many values to unpack (expected 3)",
     "output_type": "error",
     "traceback": [
      "\u001b[1;31m---------------------------------------------------------------------------\u001b[0m",
      "\u001b[1;31mValueError\u001b[0m                                Traceback (most recent call last)",
      "Cell \u001b[1;32mIn[24], line 7\u001b[0m\n\u001b[0;32m      4\u001b[0m a, b, c, d \u001b[38;5;241m=\u001b[39m s\n\u001b[0;32m      6\u001b[0m \u001b[38;5;66;03m# А вот это выдаст ошибку\u001b[39;00m\n\u001b[1;32m----> 7\u001b[0m a, b, c \u001b[38;5;241m=\u001b[39m s\n",
      "\u001b[1;31mValueError\u001b[0m: too many values to unpack (expected 3)"
     ]
    }
   ],
   "source": [
    "s = \"ping\"\n",
    "\n",
    "# Это сработает отлично\n",
    "a, b, c, d = s\n",
    "\n",
    "# А вот это выдаст ошибку\n",
    "a, b, c = s"
   ]
  },
  {
   "cell_type": "code",
   "execution_count": 23,
   "metadata": {},
   "outputs": [
    {
     "data": {
      "text/plain": [
       "'p'"
      ]
     },
     "execution_count": 23,
     "metadata": {},
     "output_type": "execute_result"
    }
   ],
   "source": []
  },
  {
   "cell_type": "code",
   "execution_count": 25,
   "metadata": {},
   "outputs": [
    {
     "name": "stdout",
     "output_type": "stream",
     "text": [
      "a = p\n",
      "b = i\n",
      "c = ['n', 'g']\n"
     ]
    }
   ],
   "source": [
    "a, b, *c = s\n",
    "\n",
    "print(f\"a = {a}\")\n",
    "print(f\"b = {b}\")\n",
    "print(f\"c = {c}\")\n",
    "\n",
    "# Эквивалентно\n",
    "a, b, c = s[0], s[1], s[2:]"
   ]
  },
  {
   "cell_type": "code",
   "execution_count": 26,
   "metadata": {},
   "outputs": [
    {
     "name": "stdout",
     "output_type": "stream",
     "text": [
      "a = ['p', 'i']\n",
      "b = n\n",
      "c = g\n"
     ]
    }
   ],
   "source": [
    "# А можно сделать так\n",
    "\n",
    "*a, b, c = s\n",
    "print(f\"a = {a}\")\n",
    "print(f\"b = {b}\")\n",
    "print(f\"c = {c}\")\n",
    "\n",
    "# Важно, чтобы была только одна *"
   ]
  },
  {
   "cell_type": "code",
   "execution_count": 27,
   "metadata": {},
   "outputs": [
    {
     "name": "stdout",
     "output_type": "stream",
     "text": [
      "4\n"
     ]
    }
   ],
   "source": [
    "# Например получение последнего элемента без срезов\n",
    "a = [1, 2, 3, 4]\n",
    "*seq, last = a\n",
    "print(last)"
   ]
  },
  {
   "cell_type": "markdown",
   "metadata": {},
   "source": [
    "## Условия и последовательности\n",
    "\n",
    "Так же можно делать поэлементное сравнение последовательностей, __исключительного одного и того же типа__"
   ]
  },
  {
   "cell_type": "code",
   "execution_count": 28,
   "metadata": {},
   "outputs": [
    {
     "name": "stdout",
     "output_type": "stream",
     "text": [
      "True\n",
      "False\n",
      "False\n",
      "True\n"
     ]
    },
    {
     "data": {
      "text/plain": [
       "True"
      ]
     },
     "execution_count": 28,
     "metadata": {},
     "output_type": "execute_result"
    }
   ],
   "source": [
    "a = [1, 2]\n",
    "b = [1, 2]\n",
    "c = (1, 2)\n",
    "d = (1, 2)\n",
    "\n",
    "# Элементы одинаковы\n",
    "print(a == b)\n",
    "# Но это не один и тот же объект\n",
    "print(a is b)\n",
    "# в то же время, сравнить список и кортеж нельзя\n",
    "print(a == c)\n",
    "# а кортеж с кортежом - легко\n",
    "print(c == d)\n",
    "\n",
    "# Все это эквивалентно\n",
    "a[0] == b[0] and a[1] == b[1]"
   ]
  },
  {
   "cell_type": "markdown",
   "metadata": {},
   "source": [
    "> `__X is Y__` - проверяет является объект в __X__ тем же самым объектом, что хранится в __Y__"
   ]
  },
  {
   "cell_type": "markdown",
   "metadata": {},
   "source": [
    "# Домашняя работа\n",
    "\n",
    "Написать программу, которая просит ввести температуру в [градусах цельсия или фаренгейта](https://ru.wikipedia.org/wiki/%D0%93%D1%80%D0%B0%D0%B4%D1%83%D1%81_%D0%A4%D0%B0%D1%80%D0%B5%D0%BD%D0%B3%D0%B5%D0%B9%D1%82%D0%B0) (12C или 100F). Программа должна проверить корректность ввода, а затем вывести значение в другой шкала: если ввод был в цельсиях, то вывод - в фаренгейтах и наоборот.\n",
    "\n",
    "Ввод: 40C\n",
    "Вывод: 104F"
   ]
  },
  {
   "cell_type": "code",
   "execution_count": null,
   "metadata": {},
   "outputs": [],
   "source": []
  }
 ],
 "metadata": {
  "kernelspec": {
   "display_name": "Python 3 (ipykernel)",
   "language": "python",
   "name": "python3"
  },
  "language_info": {
   "codemirror_mode": {
    "name": "ipython",
    "version": 3
   },
   "file_extension": ".py",
   "mimetype": "text/x-python",
   "name": "python",
   "nbconvert_exporter": "python",
   "pygments_lexer": "ipython3",
   "version": "3.10.9"
  }
 },
 "nbformat": 4,
 "nbformat_minor": 4
}
