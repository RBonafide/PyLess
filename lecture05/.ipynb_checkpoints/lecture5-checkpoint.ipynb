{
 "cells": [
  {
   "cell_type": "markdown",
   "metadata": {},
   "source": [
    "# Лекция 5. Файлы. Функции\n",
    "\n",
    "* Файлы\n",
    "* Исключения (начало)\n",
    "* Функции"
   ]
  },
  {
   "cell_type": "markdown",
   "metadata": {},
   "source": [
    "# Для пользователей Jupyter\n",
    "\n",
    "Для тех, кто использует Jupyter и при этом очень хочет, чтобы функция `exit` работала, нужно добавить и выполнить в самое начало вашей тетрадки следующий код"
   ]
  },
  {
   "cell_type": "code",
   "execution_count": 1,
   "metadata": {},
   "outputs": [],
   "source": [
    "class StopExecution(Exception):\n",
    "    def __init__(self, code):\n",
    "        self.code = code\n",
    "        \n",
    "    def _render_traceback_(self):\n",
    "        print(\"Exit %s\" % self.code)\n",
    "    \n",
    "def exit(code):\n",
    "    raise StopExecution(code)"
   ]
  },
  {
   "cell_type": "markdown",
   "metadata": {},
   "source": [
    "# Еще несколько полезных функций"
   ]
  },
  {
   "cell_type": "markdown",
   "metadata": {},
   "source": [
    "> `all(iterable)` - возвращает True, если все значения true-подобны. Если элементов в объекте нет, то возращает True"
   ]
  },
  {
   "cell_type": "code",
   "execution_count": 14,
   "metadata": {},
   "outputs": [
    {
     "name": "stdout",
     "output_type": "stream",
     "text": [
      "False\n",
      "True\n",
      "True\n"
     ]
    }
   ],
   "source": [
    "a = [1, 2, 0]\n",
    "print(all(a))\n",
    "\n",
    "a = [1, 2, 3]\n",
    "print(all(a))\n",
    "\n",
    "# но если список пустой\n",
    "a = []\n",
    "print(all(a))"
   ]
  },
  {
   "cell_type": "markdown",
   "metadata": {},
   "source": [
    "> `any(iterable)` - возвращает True, если хотя бы одно значение true-подобно. Если элментов нет, то возвращает False"
   ]
  },
  {
   "cell_type": "code",
   "execution_count": 16,
   "metadata": {},
   "outputs": [
    {
     "name": "stdout",
     "output_type": "stream",
     "text": [
      "False\n",
      "True\n",
      "False\n"
     ]
    }
   ],
   "source": [
    "a = [0, 0, 0]\n",
    "print(any(a))\n",
    "\n",
    "a = [0, 2, 0]\n",
    "print(any(a))\n",
    "\n",
    "# но если список пустой\n",
    "a = []\n",
    "print(any(a))"
   ]
  },
  {
   "cell_type": "markdown",
   "metadata": {},
   "source": [
    "> `min(iterable), min(arg1, arg2, ...), max(iterable), max(arg1, arg2, ...)` - получить минимальный или максимальный элемент"
   ]
  },
  {
   "cell_type": "code",
   "execution_count": 18,
   "metadata": {},
   "outputs": [
    {
     "name": "stdout",
     "output_type": "stream",
     "text": [
      "-1\n",
      "-1\n"
     ]
    }
   ],
   "source": [
    "print(min([3, -1, 5]))\n",
    "print(min(3, -1, 6))"
   ]
  },
  {
   "cell_type": "markdown",
   "metadata": {},
   "source": [
    "> `sum(iterable)` - найти сумму всех элементов"
   ]
  },
  {
   "cell_type": "code",
   "execution_count": 21,
   "metadata": {},
   "outputs": [
    {
     "name": "stdout",
     "output_type": "stream",
     "text": [
      "45\n",
      "55\n"
     ]
    }
   ],
   "source": [
    "a = [i for i in range(10)]\n",
    "\n",
    "print(sum(a))\n",
    "print(sum(a, 10))"
   ]
  },
  {
   "cell_type": "markdown",
   "metadata": {},
   "source": [
    "# Списки и словари(продолжение)\n",
    "\n",
    "Если перед нами стоит задача изменения списка, то мы вынуждены написаны следующий код"
   ]
  },
  {
   "cell_type": "code",
   "execution_count": 1,
   "metadata": {},
   "outputs": [
    {
     "name": "stdout",
     "output_type": "stream",
     "text": [
      "[10, 11, 12, 13, 14, 15]\n"
     ]
    }
   ],
   "source": [
    "a = [0, 1, 2, 3, 4, 5]\n",
    "for i in range(len(a)):\n",
    "    a[i] += 10\n",
    "print(a)"
   ]
  },
  {
   "cell_type": "markdown",
   "metadata": {},
   "source": [
    "Данный подход не самый оптимальный. Python предоставляет нам более удобный способ"
   ]
  },
  {
   "cell_type": "code",
   "execution_count": 3,
   "metadata": {},
   "outputs": [
    {
     "name": "stdout",
     "output_type": "stream",
     "text": [
      "[10, 11, 12, 13, 14, 15]\n"
     ]
    }
   ],
   "source": [
    "a = [0, 1, 2, 3, 4, 5]\n",
    "a = [el + 10 for el in a]\n",
    "print(a)"
   ]
  },
  {
   "cell_type": "markdown",
   "metadata": {},
   "source": [
    "Также можно добавить условие, которое позволит \"фильтровать\" элементы списка"
   ]
  },
  {
   "cell_type": "code",
   "execution_count": 4,
   "metadata": {},
   "outputs": [
    {
     "name": "stdout",
     "output_type": "stream",
     "text": [
      "[10, 12, 14]\n"
     ]
    }
   ],
   "source": [
    "a = [0, 1, 2, 3, 4, 5]\n",
    "a = [el + 10 for el in a if el % 2 == 0]\n",
    "print(a)"
   ]
  },
  {
   "cell_type": "markdown",
   "metadata": {},
   "source": [
    "Никто не запрещает нам использовать вложенные циклы"
   ]
  },
  {
   "cell_type": "code",
   "execution_count": 7,
   "metadata": {},
   "outputs": [
    {
     "data": {
      "text/plain": [
       "['ad',\n",
       " 'ae',\n",
       " 'af',\n",
       " 'ag',\n",
       " 'ah',\n",
       " 'bd',\n",
       " 'be',\n",
       " 'bf',\n",
       " 'bg',\n",
       " 'bh',\n",
       " 'cd',\n",
       " 'ce',\n",
       " 'cf',\n",
       " 'cg',\n",
       " 'ch']"
      ]
     },
     "execution_count": 7,
     "metadata": {},
     "output_type": "execute_result"
    }
   ],
   "source": [
    "a = [x+y for x in \"abc\" for y in \"defgh\"]\n",
    "a"
   ]
  },
  {
   "cell_type": "markdown",
   "metadata": {},
   "source": [
    "Точно такая же конструкция может быть использована для создания словарей и множеств"
   ]
  },
  {
   "cell_type": "code",
   "execution_count": 4,
   "metadata": {},
   "outputs": [
    {
     "name": "stdout",
     "output_type": "stream",
     "text": [
      "{0, 1, 2, 3, 4, 5, 6, 7, 8, 9}\n",
      "{0: 0, 1: 1, 2: 4, 3: 9, 4: 16, 5: 25, 6: 36, 7: 49, 8: 64, 9: 81}\n"
     ]
    }
   ],
   "source": [
    "s = {n for n in range(10)}\n",
    "print(s)\n",
    "\n",
    "d = {n: n**2 for n in range(10)}\n",
    "print(d)"
   ]
  },
  {
   "cell_type": "markdown",
   "metadata": {},
   "source": [
    "# Файлы\n",
    "\n",
    "В __Python__'e работа с файлами невероятно простая. Достаточно использовать функцию __open()__\n",
    "\n",
    "```Python\n",
    "open(<путь>[, <режим>])\n",
    "```\n",
    "\n",
    "Путь может быть относительным или абсолютным. \n",
    "\n",
    "Доступны следующие режимы (их можно комбинировать вместе)\n",
    "- `\"r\"` - открыть для чтения\n",
    "- `\"w\"` - открыть для записи, создает файл если его нет, если есть - очищает его содержимое\n",
    "- `\"rw\"` - открыть для чтения и записи\n",
    "- `\"a\"` - открыть для добавления данный в конец файла\n",
    "- `\"b\"` - добавить, чтобы открыть файл в бинарном режиме\n",
    "- `\"t\"` - добавить. чтобы открыть файл в текстовом режиме, можно не писать, так как присутствует по умолчанию, если не указано \"b\"\n",
    "- `\"+\"` - открыть файл для обновления (чтение и запись)\n",
    "\n",
    "Если режим не указан, то он считается \"rt\""
   ]
  },
  {
   "cell_type": "code",
   "execution_count": 36,
   "metadata": {},
   "outputs": [],
   "source": [
    "# Это все одно и тоже\n",
    "f = open('sample.txt')\n",
    "f = open('sample.txt', 'r')\n",
    "f = open('sample.txt', 'rt')"
   ]
  },
  {
   "cell_type": "markdown",
   "metadata": {},
   "source": [
    "Также для текстовых файлов можно указывать конкретную кодировку"
   ]
  },
  {
   "cell_type": "code",
   "execution_count": 5,
   "metadata": {},
   "outputs": [],
   "source": [
    "f = open('sample.txt', encoding=\"cp1251\")"
   ]
  },
  {
   "cell_type": "markdown",
   "metadata": {},
   "source": [
    "У файла есть следующие методы\n",
    "\n",
    "- `f.read()` - читает весь файл в одну строку\n",
    "- `f.read(N)` - читает N символов(или байт) от текущей позиции\n",
    "- `f.readline()` - читает строку до '\\n', включительно\n",
    "- `f.readlines()` - читает все строки и возвращает их список\n",
    "- `f.write(\"hi\")` - записывает символы(или байты) начиная с текущей позиции\n",
    "- `f.writelines([\"a\", \"b\"])` - записывает строки в файл\n",
    "- `f.flush()` - сбрасывает буфер на диск\n",
    "- `f.close()` - закрывает файл (автоматически сбрасывает буфер на диск)\n",
    "- `f.seek(N), f.seek(N, 0)` - перейти на позицию N в файле. Второй аргумент указывает с какого конца считать позицию(0 - от начала, 1 - от текущей позиции, 2 - с конца)\n",
    "- `f.tell()` - текущая позиция"
   ]
  },
  {
   "cell_type": "code",
   "execution_count": 8,
   "metadata": {},
   "outputs": [
    {
     "name": "stdout",
     "output_type": "stream",
     "text": [
      "23 bytes\n"
     ]
    }
   ],
   "source": [
    "# очень \"неправильный\" способ получения размера файла\n",
    "\n",
    "f = open(\"sample.txt\", 'rb')\n",
    "f.seek(0, 2)\n",
    "print(f.tell(), \"bytes\")"
   ]
  },
  {
   "cell_type": "code",
   "execution_count": 12,
   "metadata": {},
   "outputs": [
    {
     "name": "stdout",
     "output_type": "stream",
     "text": [
      "line1\n",
      "line2\n",
      "line3\n",
      "line4\n"
     ]
    }
   ],
   "source": [
    "f = open(\"sample.txt\", 'rt')\n",
    "print(f.read())"
   ]
  },
  {
   "cell_type": "code",
   "execution_count": 62,
   "metadata": {},
   "outputs": [
    {
     "data": {
      "text/plain": [
       "'строка1\\nline2\\nline3\\nline4\\nline5\\nline6'"
      ]
     },
     "execution_count": 62,
     "metadata": {},
     "output_type": "execute_result"
    }
   ],
   "source": [
    "f.seek(0)\n",
    "f.read()"
   ]
  },
  {
   "cell_type": "code",
   "execution_count": 56,
   "metadata": {},
   "outputs": [
    {
     "data": {
      "text/plain": [
       "b'line1\\n'"
      ]
     },
     "execution_count": 56,
     "metadata": {},
     "output_type": "execute_result"
    }
   ],
   "source": [
    "f.seek(0)\n",
    "f.readline()"
   ]
  },
  {
   "cell_type": "markdown",
   "metadata": {},
   "source": [
    "Файл поддерживает протокол итераций"
   ]
  },
  {
   "cell_type": "code",
   "execution_count": 16,
   "metadata": {},
   "outputs": [
    {
     "name": "stdout",
     "output_type": "stream",
     "text": [
      "'line1\\n'\n",
      "line1\n",
      "'line2\\n'\n",
      "line2\n",
      "'line3\\n'\n",
      "line3\n",
      "'line4'\n",
      "line4\n"
     ]
    }
   ],
   "source": [
    "import re\n",
    "\n",
    "f = open('sample.txt', 'r')\n",
    "\n",
    "for line in f:\n",
    "    print(repr(line))\n",
    "    line = line.rstrip()\n",
    "    #terms = map(float, line.split(\" \"))\n",
    "    # лишний перенос строки получаем из-за того, что читаем его из файла\n",
    "    #print(list(terms))\n",
    "    print(line)"
   ]
  },
  {
   "cell_type": "markdown",
   "metadata": {},
   "source": [
    "Также для записи в файл можем использовать __print()__"
   ]
  },
  {
   "cell_type": "code",
   "execution_count": 18,
   "metadata": {},
   "outputs": [],
   "source": [
    "f = open('test.txt', \"w\")\n",
    "\n",
    "f.write(\"asdasd\")\n",
    "print(\"hello world\", end=\"!\", file=f)\n",
    "\n",
    "f.close()"
   ]
  },
  {
   "cell_type": "code",
   "execution_count": 67,
   "metadata": {},
   "outputs": [
    {
     "data": {
      "text/plain": [
       "\u001b[0;31mDocstring:\u001b[0m\n",
       "print(value, ..., sep=' ', end='\\n', file=sys.stdout, flush=False)\n",
       "\n",
       "Prints the values to a stream, or to sys.stdout by default.\n",
       "Optional keyword arguments:\n",
       "file:  a file-like object (stream); defaults to the current sys.stdout.\n",
       "sep:   string inserted between values, default a space.\n",
       "end:   string appended after the last value, default a newline.\n",
       "flush: whether to forcibly flush the stream.\n",
       "\u001b[0;31mType:\u001b[0m      builtin_function_or_method\n"
      ]
     },
     "metadata": {},
     "output_type": "display_data"
    }
   ],
   "source": [
    "print?"
   ]
  },
  {
   "cell_type": "markdown",
   "metadata": {},
   "source": [
    "## with\n",
    "\n",
    "При работе с файлами, __важно__ не забывать закрывать их за собой, так как они открыты до тех пор, пока сборщик мусора не удалит их. Также программе разрешенно держать открытыми только ограниченное число файлов. \n",
    "\n",
    "В случае возникновения исключительных ситуаций или написании кода, нередко можно забыть закрыть за собой файл. Чтобы избежать таких проблем, Python поддерживает очень удобный оператор __with__."
   ]
  },
  {
   "cell_type": "code",
   "execution_count": 56,
   "metadata": {},
   "outputs": [],
   "source": [
    "with open(\"test.txt\", \"wb\") as f:\n",
    "    f.write(b\"\\x01\\x01\\x01\\x01\\x01\\x01\\x01\\x01\")\n",
    "\n",
    "# не нужно вызывать f.close(), так как он будет вызван автоматически при любом выходе из блока with"
   ]
  },
  {
   "cell_type": "markdown",
   "metadata": {},
   "source": [
    "# Исключения (начало)\n",
    "\n",
    "При работе программы могу происходить исключительные ситуации, которые Python не может обработать, о чем он и сообщает. \n",
    "\n",
    "Данные исключительные ситуации останавливают выполнение программы. Python предоставляет инструментарий, который позволяет перехватывать эти исключения и обрабатывать их\n",
    "\n",
    "```Python\n",
    "try:\n",
    "    <код, может произойти исключение>\n",
    "except <тип исключения>:\n",
    "    <что делать>\n",
    "except <тип исключения> as <куда поместить>:\n",
    "    <что делать>\n",
    "except:\n",
    "    <перехват любый исключений>\n",
    "finally:\n",
    "    <выполняет в конце в любом случае>\n",
    "```"
   ]
  },
  {
   "cell_type": "code",
   "execution_count": 23,
   "metadata": {},
   "outputs": [
    {
     "name": "stdout",
     "output_type": "stream",
     "text": [
      "Error:  [Errno 2] No such file or directory: 'sample1.txt'\n",
      "Hi\n"
     ]
    }
   ],
   "source": [
    "f = open(\"sample1.txt\")\n",
    "try:\n",
    "    pass\n",
    "finally:\n",
    "    f.close()"
   ]
  },
  {
   "cell_type": "code",
   "execution_count": 26,
   "metadata": {},
   "outputs": [
    {
     "name": "stdout",
     "output_type": "stream",
     "text": [
      "end\n"
     ]
    }
   ],
   "source": [
    "a = \"15\"\n",
    "\n",
    "try:\n",
    "    n = int(a)\n",
    "except ZeroDivisionError:\n",
    "    pass\n",
    "except ValueError:\n",
    "    print(\"Invalid input\")\n",
    "finally:\n",
    "    print(\"end\")"
   ]
  },
  {
   "cell_type": "code",
   "execution_count": 60,
   "metadata": {},
   "outputs": [
    {
     "name": "stdout",
     "output_type": "stream",
     "text": [
      "Unknown Error\n",
      "end\n"
     ]
    }
   ],
   "source": [
    "try:\n",
    "    n = int(a)\n",
    "except:\n",
    "    print(\"Unknown Error\")\n",
    "finally:\n",
    "    print(\"end\")"
   ]
  },
  {
   "cell_type": "code",
   "execution_count": 62,
   "metadata": {},
   "outputs": [],
   "source": [
    "# Альтернатива with\n",
    "\n",
    "f = open(\"sample.txt\")\n",
    "\n",
    "try:\n",
    "    pass\n",
    "finally:\n",
    "    f.close()"
   ]
  },
  {
   "cell_type": "code",
   "execution_count": 64,
   "metadata": {},
   "outputs": [
    {
     "name": "stdout",
     "output_type": "stream",
     "text": [
      "There is no file\n"
     ]
    }
   ],
   "source": [
    "try:\n",
    "    f = open(\"asd.txt\")\n",
    "except FileNotFoundError:\n",
    "    print(\"There is no file\")"
   ]
  },
  {
   "cell_type": "code",
   "execution_count": 33,
   "metadata": {},
   "outputs": [
    {
     "name": "stdout",
     "output_type": "stream",
     "text": [
      "(6, 0) (4, 0)\n",
      "(3, 1) (10, 1)\n",
      "(9, 2) (4, 2)\n",
      "(5, 3) (7, 3)\n",
      "(6, 4) (2, 4)\n",
      "(1, 5) (3, 5)\n",
      "(2, 6) (3, 6)\n",
      "(2, 7) (0, 7)\n",
      "(6, 8) (6, 8)\n",
      "(4, 9) (10, 9)\n",
      "[(6, 4, 0), (3, 10, 1), (9, 4, 2), (5, 7, 3), (6, 2, 4), (1, 3, 5), (2, 3, 6), (2, 0, 7), (6, 6, 8), (4, 10, 9)]\n"
     ]
    }
   ],
   "source": [
    "import random\n",
    "\n",
    "test1 = [(random.randint(0, 10), n) for n in range(10)]\n",
    "test2 = [(random.randint(0, 10), n) for n in range(10)]\n",
    "\n",
    "test1.append(test2[4])\n",
    "\n",
    "\n",
    "tmp = []\n",
    "for t1, t2 in zip(test1, test2):\n",
    "    print(t1, t2)\n",
    "    tmp.append((t1[0], t2[0], t2[1]))\n",
    "\n",
    "    \n",
    "for i in range(len(test1)):\n",
    "    t1 = test1[i]\n",
    "    t2 = test2[i]\n",
    "    tmp.append((t1[0], t2[0], t2[1]))\n",
    "    \n",
    "print(tmp)"
   ]
  }
 ],
 "metadata": {
  "kernelspec": {
   "display_name": "Python 3",
   "language": "python",
   "name": "python3"
  },
  "language_info": {
   "codemirror_mode": {
    "name": "ipython",
    "version": 3
   },
   "file_extension": ".py",
   "mimetype": "text/x-python",
   "name": "python",
   "nbconvert_exporter": "python",
   "pygments_lexer": "ipython3",
   "version": "3.8.5"
  }
 },
 "nbformat": 4,
 "nbformat_minor": 4
}
