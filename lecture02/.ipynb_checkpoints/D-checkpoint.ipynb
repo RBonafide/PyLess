{
 "cells": [
  {
   "cell_type": "code",
   "execution_count": 10,
   "metadata": {},
   "outputs": [],
   "source": [
    "import math"
   ]
  },
  {
   "cell_type": "code",
   "execution_count": 15,
   "metadata": {
    "scrolled": true
   },
   "outputs": [
    {
     "name": "stdout",
     "output_type": "stream",
     "text": [
      "Введите значение A: 2\n",
      "Введите значение B: 0\n",
      "Введите значение C: 67\n",
      "Нет корней\n"
     ]
    }
   ],
   "source": [
    "a = int(input('Введите значение A: '))\n",
    "b = int(input('Введите значение B: '))\n",
    "c = int(input('Введите значение C: '))\n",
    "\n",
    "d = b**2 - 4 * a * c\n",
    "if d > 0:\n",
    "    x1 = (-b + math.sqrt(d))/(2*a)\n",
    "    x2 = (-b - math.sqrt(d))/(2*a)\n",
    "    print(x1, x2, \" - корни дискриминанта\")\n",
    "elif d == 0:\n",
    "    x = -b/(2*a)\n",
    "    print(x, \" - корень дискриминанта\")\n",
    "else:\n",
    "    print(\"Нет корней\")"
   ]
  }
 ],
 "metadata": {
  "kernelspec": {
   "display_name": "Python 3",
   "language": "python",
   "name": "python3"
  },
  "language_info": {
   "codemirror_mode": {
    "name": "ipython",
    "version": 3
   },
   "file_extension": ".py",
   "mimetype": "text/x-python",
   "name": "python",
   "nbconvert_exporter": "python",
   "pygments_lexer": "ipython3",
   "version": "3.8.5"
  }
 },
 "nbformat": 4,
 "nbformat_minor": 5
}
