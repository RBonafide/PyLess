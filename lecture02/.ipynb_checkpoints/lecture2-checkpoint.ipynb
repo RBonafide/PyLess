{
 "cells": [
  {
   "cell_type": "markdown",
   "metadata": {},
   "source": [
    "# Лекция 2. Условные конструкции и строки.\n",
    "\n",
    "* Правила хорошего тона\n",
    "* Оператор if\n",
    "* Логические операции\n",
    "* Строки"
   ]
  },
  {
   "cell_type": "markdown",
   "metadata": {},
   "source": [
    "# Правила хорошего тона\n",
    "\n",
    "1. Все имена переменных должны иметь смысл\n",
    "2. Писать нужно так, словно ваш код будет читать потом другой человек (этим человеком будете вы через неделю другую)\n",
    "3. Не стесняйтесь писать комментарии, объясняющие, что происходит в вашей программе\n",
    "4. Разбивайте ваш код на логические блоки\n",
    "\n",
    "\n",
    "Чтобы добавить комментарий в ваш код, вам достаточно использовать символ __\"#\"__. Любой символ после __\"#\"__ и до конца строки будет считаться комментарием и, следовательно, будет проигнорирован Python'ом."
   ]
  },
  {
   "cell_type": "code",
   "execution_count": 1,
   "metadata": {},
   "outputs": [],
   "source": [
    "# Это комментарий\n",
    "\n",
    "a = 3 # это тоже комментарий"
   ]
  },
  {
   "cell_type": "markdown",
   "metadata": {},
   "source": [
    "## Keywords\n",
    "\n",
    "Следующие слова не могут использованы как название переменных\n",
    "\n",
    "<table>\n",
    "    <tr>\n",
    "        <td>False</td>\n",
    "        <td>await</td>\n",
    "        <td>else</td>\n",
    "        <td>import</td>\n",
    "        <td>pass</td>\n",
    "    </tr>\n",
    "    <tr>\n",
    "        <td>None</td>\n",
    "        <td>break</td>\n",
    "        <td>except</td>\n",
    "        <td>in</td>\n",
    "        <td>raise</td>\n",
    "    </tr>\n",
    "    <tr>\n",
    "        <td>True</td>\n",
    "        <td>class</td>\n",
    "        <td>finally</td>\n",
    "        <td>is</td>\n",
    "        <td>return</td>\n",
    "    </tr>\n",
    "    <tr>\n",
    "        <td>and</td>\n",
    "        <td>continue</td>\n",
    "        <td>for</td>\n",
    "        <td>lambda</td>\n",
    "        <td>try</td>\n",
    "    </tr>\n",
    "    <tr>   \n",
    "        <td>as</td>\n",
    "        <td>def</td>\n",
    "        <td>from</td>\n",
    "        <td>nonlocal</td>\n",
    "        <td>while</td>\n",
    "    </tr>\n",
    "    <tr>\n",
    "        <td>assert</td>\n",
    "        <td>del</td>\n",
    "        <td>global</td>\n",
    "        <td>not</td>\n",
    "        <td>with</td>\n",
    "    </tr>\n",
    "    <tr>\n",
    "        <td>async</td>\n",
    "        <td>elif</td>\n",
    "        <td>if</td>\n",
    "        <td>or</td>\n",
    "        <td>yield</td>\n",
    "    </tr>\n",
    "</table>\n",
    "\n",
    "                     "
   ]
  },
  {
   "cell_type": "markdown",
   "metadata": {},
   "source": [
    "# Логический оператор __if__\n",
    "\n",
    "Нередко вашей программе придется принимать те или иные решения исходя из входных данных. Управлять потоком выполнения можно с помощью оператора __if__\n",
    "\n",
    "```Python\n",
    "    if <условие>:\n",
    "        <ваш код>\n",
    "    elif <условие>:\n",
    "        <ваш код>\n",
    "    else:\n",
    "        <ваш код>\n",
    "```"
   ]
  },
  {
   "cell_type": "code",
   "execution_count": 119,
   "metadata": {},
   "outputs": [
    {
     "name": "stdout",
     "output_type": "stream",
     "text": [
      "FOO\n"
     ]
    }
   ],
   "source": [
    "a = 5\n",
    "\n",
    "if a > 1:\n",
    "    print(\"FOO\")\n",
    "    print(\"sadsa\")\n",
    "    if a < 5:\n",
    "        print(\"sd\")"
   ]
  },
  {
   "cell_type": "markdown",
   "metadata": {},
   "source": [
    "Условием может быть почти любое выражение, оно неявно преобразуется к логическому типу. Если логически выражение возвращает ненулевой или непустой объект, то это будет __True__, в противном случае __False__"
   ]
  },
  {
   "cell_type": "code",
   "execution_count": 121,
   "metadata": {},
   "outputs": [
    {
     "data": {
      "text/plain": [
       "1"
      ]
     },
     "execution_count": 121,
     "metadata": {},
     "output_type": "execute_result"
    }
   ],
   "source": [
    "True + False"
   ]
  },
  {
   "cell_type": "code",
   "execution_count": 122,
   "metadata": {},
   "outputs": [
    {
     "name": "stdout",
     "output_type": "stream",
     "text": [
      "1\n",
      "4\n"
     ]
    }
   ],
   "source": [
    "if \"0\":\n",
    "    print(\"1\")\n",
    "    \n",
    "if \"\":\n",
    "    print(\"2\")\n",
    "    \n",
    "if 0:\n",
    "    print(\"3\")\n",
    "    \n",
    "if 13:\n",
    "    print(\"4\")"
   ]
  },
  {
   "cell_type": "markdown",
   "metadata": {},
   "source": [
    "Можно даже явно посмотреть, как будет преобразовано ваше выражение"
   ]
  },
  {
   "cell_type": "code",
   "execution_count": 9,
   "metadata": {},
   "outputs": [
    {
     "data": {
      "text/plain": [
       "True"
      ]
     },
     "execution_count": 9,
     "metadata": {},
     "output_type": "execute_result"
    }
   ],
   "source": [
    "bool(\"1\")"
   ]
  },
  {
   "cell_type": "markdown",
   "metadata": {},
   "source": [
    "# Блоки\n",
    "\n",
    "Здесь мы в первым знакомимься с блоками. Если вы обратите внимание выше, то код выполняемый при выполнении условия выше написан с отступом. Данный отступ является частью синтаксиса языка и следовательно обязателен. \n",
    "\n",
    "\n",
    "Отступ можно делать с помощью табуляции или любого числа пробелов, но выбранный тип отступов должен быть одинаковым для всего файла.\n",
    "\n",
    "\n",
    "Все выражения с одинаковым отступом относятся к одному блоку."
   ]
  },
  {
   "cell_type": "code",
   "execution_count": 10,
   "metadata": {},
   "outputs": [
    {
     "name": "stdout",
     "output_type": "stream",
     "text": [
      "Hi\n"
     ]
    }
   ],
   "source": [
    "if True:\n",
    "    if False:\n",
    "        print(\"You don't see me\")\n",
    "    \n",
    "    print(\"Hi\")"
   ]
  },
  {
   "cell_type": "markdown",
   "metadata": {},
   "source": [
    "# else\n",
    "\n",
    "Выше были примеры выполнения кода в случае выполнения некого условия, но нередко нам нужно выбрать какой-то из двух действий, то есть одно действие в случае выполнения, а другое в случае не выполнения. В этом случае мы могли бы сделать блоки с __if__."
   ]
  },
  {
   "cell_type": "code",
   "execution_count": 13,
   "metadata": {},
   "outputs": [
    {
     "name": "stdout",
     "output_type": "stream",
     "text": [
      "Odd\n"
     ]
    }
   ],
   "source": [
    "a = 5\n",
    "\n",
    "if a % 2 == 0:\n",
    "    print(\"Even\")\n",
    "    \n",
    "if a % 2 != 0: # можно просто if a % 2:\n",
    "    print(\"Odd\")"
   ]
  },
  {
   "cell_type": "markdown",
   "metadata": {},
   "source": [
    "Это довольно утомительно и может приводить к ошибкам и опечаткам. Поэтому выражения выше можно переписать как "
   ]
  },
  {
   "cell_type": "code",
   "execution_count": 14,
   "metadata": {},
   "outputs": [
    {
     "name": "stdout",
     "output_type": "stream",
     "text": [
      "Odd\n"
     ]
    }
   ],
   "source": [
    "a = 5\n",
    "\n",
    "if a % 2:\n",
    "    print(\"Odd\")\n",
    "else:\n",
    "    print(\"Even\")"
   ]
  },
  {
   "cell_type": "markdown",
   "metadata": {},
   "source": [
    "# elif\n",
    "\n",
    "Нередко в вашей практике придется проверять дополнительные условия в случае не выполнения предыдущего условия"
   ]
  },
  {
   "cell_type": "code",
   "execution_count": 29,
   "metadata": {},
   "outputs": [
    {
     "name": "stdout",
     "output_type": "stream",
     "text": [
      "Zero\n"
     ]
    }
   ],
   "source": [
    "a = 0\n",
    "\n",
    "if a < 0:\n",
    "    print(\"Negative\")\n",
    "else:\n",
    "    if a == 0:\n",
    "        print(\"Zero\")\n",
    "    else:\n",
    "        if a % 5:\n",
    "            print(\"...\")\n",
    "        print(\"Positive\")"
   ]
  },
  {
   "cell_type": "markdown",
   "metadata": {},
   "source": [
    "Это выражения становятся монструозными уже с несколькими вложенными блоками. Python предлагает более простую запись"
   ]
  },
  {
   "cell_type": "code",
   "execution_count": 30,
   "metadata": {},
   "outputs": [
    {
     "name": "stdout",
     "output_type": "stream",
     "text": [
      "Zero\n"
     ]
    }
   ],
   "source": [
    "a = 0\n",
    "\n",
    "if a < 0: \n",
    "    print(\"Negative\")\n",
    "    print()\n",
    "elif a == 0: print(\"Zero\")\n",
    "else: print(\"Positive\")\n",
    "    \n"
   ]
  },
  {
   "cell_type": "markdown",
   "metadata": {},
   "source": [
    "Будет выполнен первый блок с истинным условием, остальные условия проверяться не будут. Если ни один блоки не сработал, то сработает блок __else__."
   ]
  },
  {
   "cell_type": "markdown",
   "metadata": {},
   "source": [
    "# Логические операции\n",
    "\n",
    "* __X and Y__ - возвращает последний истинный объект, если __X__ и __Y__ эквивалентны True. В противном случае  - первый ложный.\n",
    "* __X or Y__ - возвращает первый истинный объект, если хотя бы один из __X__ и __Y__ эквивалентны True. В противном случае - последний ложный.\n",
    "* __not X__ - возвращает __True__, если __X__ эквивалентно __False__, и наоборот"
   ]
  },
  {
   "cell_type": "markdown",
   "metadata": {},
   "source": [
    "Рассмотрим особенности логических операций"
   ]
  },
  {
   "cell_type": "code",
   "execution_count": 20,
   "metadata": {},
   "outputs": [
    {
     "name": "stdout",
     "output_type": "stream",
     "text": [
      "2\n",
      "False\n",
      "0\n",
      "False\n"
     ]
    }
   ],
   "source": [
    "print(1 and 2)     # вернуло последний истинный объект\n",
    "print(False and 0) # вернуло первый ложный объект\n",
    "print(1 and 0)     # вернуло первый ложный объект\n",
    "print(False and 5) # вернуло первый ложный объект"
   ]
  },
  {
   "cell_type": "code",
   "execution_count": 22,
   "metadata": {},
   "outputs": [
    {
     "name": "stdout",
     "output_type": "stream",
     "text": [
      "1\n",
      "0\n",
      "1\n",
      "5\n"
     ]
    }
   ],
   "source": [
    "print(1 or 2)     # первый истинный объект\n",
    "print(False or 0) # последний ложный объект\n",
    "print(1 or 0)     # первый истинный объект\n",
    "print(False or 5) # первый истинный"
   ]
  },
  {
   "cell_type": "code",
   "execution_count": 23,
   "metadata": {},
   "outputs": [
    {
     "name": "stdout",
     "output_type": "stream",
     "text": [
      "True\n",
      "False\n",
      "False\n"
     ]
    }
   ],
   "source": [
    "print(not \"\")\n",
    "print(not 1)\n",
    "print(not \"hello\")"
   ]
  },
  {
   "cell_type": "markdown",
   "metadata": {},
   "source": [
    "# Особенность операторных выражений\n",
    "\n",
    "Обычно выражение заканчивается, когда заканчивается строка, но это можно исправить следующим образом"
   ]
  },
  {
   "cell_type": "code",
   "execution_count": 25,
   "metadata": {},
   "outputs": [
    {
     "name": "stdout",
     "output_type": "stream",
     "text": [
      "Hi\n"
     ]
    }
   ],
   "source": [
    "a = 5\n",
    "\n",
    "if a > 0 and\\\n",
    "   a < 10:\n",
    "    print(\"Hi\")"
   ]
  },
  {
   "cell_type": "markdown",
   "metadata": {},
   "source": [
    "Второй вариант"
   ]
  },
  {
   "cell_type": "code",
   "execution_count": null,
   "metadata": {},
   "outputs": [],
   "source": [
    "print(\n",
    "    a, \n",
    "    b, \n",
    "    c\n",
    ")"
   ]
  },
  {
   "cell_type": "code",
   "execution_count": 26,
   "metadata": {},
   "outputs": [
    {
     "name": "stdout",
     "output_type": "stream",
     "text": [
      "Hi\n"
     ]
    }
   ],
   "source": [
    "a = 5\n",
    "\n",
    "if (a > 0 \n",
    "    and\n",
    "    a < 10):\n",
    "    print(\"Hi\")"
   ]
  },
  {
   "cell_type": "markdown",
   "metadata": {},
   "source": [
    "Также можно записать несколько выражений в одну строку, используя __\";\"__"
   ]
  },
  {
   "cell_type": "code",
   "execution_count": 27,
   "metadata": {},
   "outputs": [
    {
     "name": "stdout",
     "output_type": "stream",
     "text": [
      "5\n"
     ]
    }
   ],
   "source": [
    "a = 5; print(a)"
   ]
  },
  {
   "cell_type": "markdown",
   "metadata": {},
   "source": [
    "# Тернарное выражение\n",
    "\n",
    "Иногда нужно проверить лишь очень небольшое условие и сразу же вернуть ответ"
   ]
  },
  {
   "cell_type": "code",
   "execution_count": 31,
   "metadata": {},
   "outputs": [
    {
     "name": "stdout",
     "output_type": "stream",
     "text": [
      "Odd\n"
     ]
    }
   ],
   "source": [
    "a = 5\n",
    "b = \"Odd\" if a % 2 else \"Even\"\n",
    "print(b)"
   ]
  },
  {
   "cell_type": "markdown",
   "metadata": {},
   "source": [
    "# Строки\n",
    "\n",
    "Работать в Python со строками очень легко, если помнить, что строки бывают двух типов:\n",
    "* текстовые (str) - `\"hello\"`\n",
    "* бинарные (bytes/bytearray) - `b\"\\x00 hello\"`"
   ]
  },
  {
   "cell_type": "markdown",
   "metadata": {},
   "source": [
    "Текстовые строки - это обычный текст, который мы воспринимаем. Являются неизменяемыми. Все текстовые строки имеют кодировку Unicode.\n",
    "\n",
    "Бинарные строки - это набор данных, как они есть. Могут быть представлены непечатными символами."
   ]
  },
  {
   "cell_type": "code",
   "execution_count": 2,
   "metadata": {},
   "outputs": [
    {
     "name": "stdout",
     "output_type": "stream",
     "text": [
      "hello world \n",
      "Too long\n",
      "   s fsg \n",
      "   \n",
      "dsf sdf \n",
      " текст \"текст\"\n"
     ]
    }
   ],
   "source": [
    "# Литералы текстовых строк\n",
    "\n",
    "a = \"hello\"\n",
    "b = 'world'\n",
    "c = \"\"\"\n",
    "Too long\n",
    "   s fsg \n",
    "   \n",
    "dsf sdf \n",
    "\"\"\"\n",
    "d = 'текст \"текст\"'\n",
    "\n",
    "print(a, b, c, d)"
   ]
  },
  {
   "cell_type": "code",
   "execution_count": 45,
   "metadata": {},
   "outputs": [
    {
     "name": "stdout",
     "output_type": "stream",
     "text": [
      "b'qwer'\n",
      "b'\\xd0\\xb9\\xd1\\x86\\xd1\\x83\\xd0\\xba'\n",
      "b'aa\\nsd'\n"
     ]
    }
   ],
   "source": [
    "# Литералы бинарный строк\n",
    "\n",
    "a = b\"qwer\"\n",
    "#b = b'йцукэ' # вызовет ошибку\n",
    "b = b'\\xd0\\xb9\\xd1\\x86\\xd1\\x83\\xd0\\xba'\n",
    "c = b'''aa\n",
    "sd'''\n",
    "print(a)\n",
    "print(b)\n",
    "print(c)"
   ]
  },
  {
   "cell_type": "markdown",
   "metadata": {},
   "source": [
    "# Операции над строками\n",
    "\n",
    "Строки поддерживают огромное число операций (каждая операция возвращает новую строку!)\n",
    "\n",
    "* `+` - конкатенация строк\n",
    "* `5*'hi'` - умножение на целое число (повторение строки n раз)\n",
    "* `len(\"hello\")` - длина строки в символах для текстовой строки и количество байт в случае бинарной\n",
    "* `b'asd'.decode(), \"hi\".endcode()` - преобразование между кодировками.\n",
    "* `\"asd\".strip(), \"asd\".rstrip(), \"asd\".lstrip()` - обрезание пробельных символов\n",
    "* `\"a\" in \"asd\"` - проверка на то, что строка слева является подстрокой строки справа \n",
    "* `[2], [5:]` - индексация и срезы\n",
    "* и много другое\n",
    "\n",
    "Складывать строки и числа мы не можем!"
   ]
  },
  {
   "cell_type": "code",
   "execution_count": 4,
   "metadata": {},
   "outputs": [
    {
     "name": "stdout",
     "output_type": "stream",
     "text": [
      "hellohellohellohellohello\n"
     ]
    }
   ],
   "source": [
    "a = \"hello\"\n",
    "\n",
    "print(a * 5)"
   ]
  },
  {
   "cell_type": "code",
   "execution_count": 5,
   "metadata": {},
   "outputs": [
    {
     "data": {
      "text/plain": [
       "5"
      ]
     },
     "execution_count": 5,
     "metadata": {},
     "output_type": "execute_result"
    }
   ],
   "source": [
    "len(a)"
   ]
  },
  {
   "cell_type": "code",
   "execution_count": 49,
   "metadata": {},
   "outputs": [
    {
     "data": {
      "text/plain": [
       "'йцук'"
      ]
     },
     "execution_count": 49,
     "metadata": {},
     "output_type": "execute_result"
    }
   ],
   "source": [
    "b = b'\\xd0\\xb9\\xd1\\x86\\xd1\\x83\\xd0\\xba'\n",
    "b.decode(\"utf-8\")"
   ]
  },
  {
   "cell_type": "code",
   "execution_count": 51,
   "metadata": {},
   "outputs": [
    {
     "name": "stdout",
     "output_type": "stream",
     "text": [
      "b'\\xe9\\xf6\\xf3\\xea'\n",
      "йцук\n"
     ]
    }
   ],
   "source": [
    "a = \"йцук\"\n",
    "b = a.encode(\"cp1251\")\n",
    "print(b)\n",
    "print(b.decode(\"cp1251\"))"
   ]
  },
  {
   "cell_type": "code",
   "execution_count": 94,
   "metadata": {},
   "outputs": [
    {
     "name": "stdout",
     "output_type": "stream",
     "text": [
      "True\n",
      "False\n"
     ]
    }
   ],
   "source": [
    "a = \"ello\"\n",
    "b = \"Hello World\"\n",
    "\n",
    "print(a in b)\n",
    "print(\"Hi\" in b)"
   ]
  },
  {
   "cell_type": "markdown",
   "metadata": {},
   "source": [
    "# dir\n",
    "\n",
    "> `dir` - весьма удобная функция. Возвращает список всех доступных методов и атрибуты для объекта."
   ]
  },
  {
   "cell_type": "code",
   "execution_count": 46,
   "metadata": {},
   "outputs": [
    {
     "data": {
      "text/plain": [
       "['__add__',\n",
       " '__class__',\n",
       " '__contains__',\n",
       " '__delattr__',\n",
       " '__dir__',\n",
       " '__doc__',\n",
       " '__eq__',\n",
       " '__format__',\n",
       " '__ge__',\n",
       " '__getattribute__',\n",
       " '__getitem__',\n",
       " '__getnewargs__',\n",
       " '__gt__',\n",
       " '__hash__',\n",
       " '__init__',\n",
       " '__init_subclass__',\n",
       " '__iter__',\n",
       " '__le__',\n",
       " '__len__',\n",
       " '__lt__',\n",
       " '__mod__',\n",
       " '__mul__',\n",
       " '__ne__',\n",
       " '__new__',\n",
       " '__reduce__',\n",
       " '__reduce_ex__',\n",
       " '__repr__',\n",
       " '__rmod__',\n",
       " '__rmul__',\n",
       " '__setattr__',\n",
       " '__sizeof__',\n",
       " '__str__',\n",
       " '__subclasshook__',\n",
       " 'capitalize',\n",
       " 'casefold',\n",
       " 'center',\n",
       " 'count',\n",
       " 'encode',\n",
       " 'endswith',\n",
       " 'expandtabs',\n",
       " 'find',\n",
       " 'format',\n",
       " 'format_map',\n",
       " 'index',\n",
       " 'isalnum',\n",
       " 'isalpha',\n",
       " 'isdecimal',\n",
       " 'isdigit',\n",
       " 'isidentifier',\n",
       " 'islower',\n",
       " 'isnumeric',\n",
       " 'isprintable',\n",
       " 'isspace',\n",
       " 'istitle',\n",
       " 'isupper',\n",
       " 'join',\n",
       " 'ljust',\n",
       " 'lower',\n",
       " 'lstrip',\n",
       " 'maketrans',\n",
       " 'partition',\n",
       " 'replace',\n",
       " 'rfind',\n",
       " 'rindex',\n",
       " 'rjust',\n",
       " 'rpartition',\n",
       " 'rsplit',\n",
       " 'rstrip',\n",
       " 'split',\n",
       " 'splitlines',\n",
       " 'startswith',\n",
       " 'strip',\n",
       " 'swapcase',\n",
       " 'title',\n",
       " 'translate',\n",
       " 'upper',\n",
       " 'zfill']"
      ]
     },
     "execution_count": 46,
     "metadata": {},
     "output_type": "execute_result"
    }
   ],
   "source": [
    "dir(\"hello\")"
   ]
  },
  {
   "cell_type": "code",
   "execution_count": 95,
   "metadata": {},
   "outputs": [
    {
     "data": {
      "text/plain": [
       "['__abs__',\n",
       " '__add__',\n",
       " '__and__',\n",
       " '__bool__',\n",
       " '__ceil__',\n",
       " '__class__',\n",
       " '__delattr__',\n",
       " '__dir__',\n",
       " '__divmod__',\n",
       " '__doc__',\n",
       " '__eq__',\n",
       " '__float__',\n",
       " '__floor__',\n",
       " '__floordiv__',\n",
       " '__format__',\n",
       " '__ge__',\n",
       " '__getattribute__',\n",
       " '__getnewargs__',\n",
       " '__gt__',\n",
       " '__hash__',\n",
       " '__index__',\n",
       " '__init__',\n",
       " '__init_subclass__',\n",
       " '__int__',\n",
       " '__invert__',\n",
       " '__le__',\n",
       " '__lshift__',\n",
       " '__lt__',\n",
       " '__mod__',\n",
       " '__mul__',\n",
       " '__ne__',\n",
       " '__neg__',\n",
       " '__new__',\n",
       " '__or__',\n",
       " '__pos__',\n",
       " '__pow__',\n",
       " '__radd__',\n",
       " '__rand__',\n",
       " '__rdivmod__',\n",
       " '__reduce__',\n",
       " '__reduce_ex__',\n",
       " '__repr__',\n",
       " '__rfloordiv__',\n",
       " '__rlshift__',\n",
       " '__rmod__',\n",
       " '__rmul__',\n",
       " '__ror__',\n",
       " '__round__',\n",
       " '__rpow__',\n",
       " '__rrshift__',\n",
       " '__rshift__',\n",
       " '__rsub__',\n",
       " '__rtruediv__',\n",
       " '__rxor__',\n",
       " '__setattr__',\n",
       " '__sizeof__',\n",
       " '__str__',\n",
       " '__sub__',\n",
       " '__subclasshook__',\n",
       " '__truediv__',\n",
       " '__trunc__',\n",
       " '__xor__',\n",
       " 'bit_length',\n",
       " 'conjugate',\n",
       " 'denominator',\n",
       " 'from_bytes',\n",
       " 'imag',\n",
       " 'numerator',\n",
       " 'real',\n",
       " 'to_bytes']"
      ]
     },
     "execution_count": 95,
     "metadata": {},
     "output_type": "execute_result"
    }
   ],
   "source": [
    "dir(1)"
   ]
  },
  {
   "cell_type": "code",
   "execution_count": 109,
   "metadata": {},
   "outputs": [
    {
     "data": {
      "text/plain": [
       "b'\\x00\\x01'"
      ]
     },
     "execution_count": 109,
     "metadata": {},
     "output_type": "execute_result"
    }
   ],
   "source": [
    "(1).to_bytes(2, 'big')"
   ]
  },
  {
   "cell_type": "markdown",
   "metadata": {},
   "source": [
    "# Индексация и срезы\n",
    "\n",
    "Для строк имеется возможность получения конкретных символов строки"
   ]
  },
  {
   "cell_type": "code",
   "execution_count": 58,
   "metadata": {},
   "outputs": [
    {
     "data": {
      "text/plain": [
       "('h', 'e', 'l', 'o')"
      ]
     },
     "execution_count": 58,
     "metadata": {},
     "output_type": "execute_result"
    }
   ],
   "source": [
    "a = \"hello\"\n",
    "\n",
    "a[0], a[1], a[2], a[len(a)-1]"
   ]
  },
  {
   "cell_type": "code",
   "execution_count": 116,
   "metadata": {},
   "outputs": [
    {
     "name": "stdout",
     "output_type": "stream",
     "text": [
      "0123456789\n",
      "False\n"
     ]
    }
   ],
   "source": [
    "import string\n",
    "\n",
    "print(string.digits)\n",
    "print(a[0] in string.digits)"
   ]
  },
  {
   "cell_type": "markdown",
   "metadata": {},
   "source": [
    "Обратите внимание, что символы в строке нумеруются с 0!"
   ]
  },
  {
   "cell_type": "code",
   "execution_count": 7,
   "metadata": {},
   "outputs": [
    {
     "data": {
      "text/plain": [
       "(255, 104, 101)"
      ]
     },
     "execution_count": 7,
     "metadata": {},
     "output_type": "execute_result"
    }
   ],
   "source": [
    "b = b'\\xFFhello'\n",
    "\n",
    "b[0], b[1], b[2]"
   ]
  },
  {
   "cell_type": "markdown",
   "metadata": {},
   "source": [
    "Есть поддержка отрицательных индексов"
   ]
  },
  {
   "cell_type": "code",
   "execution_count": 8,
   "metadata": {},
   "outputs": [
    {
     "data": {
      "text/plain": [
       "('o', 'o')"
      ]
     },
     "execution_count": 8,
     "metadata": {},
     "output_type": "execute_result"
    }
   ],
   "source": [
    "a[-1], a[len(a)-1]"
   ]
  },
  {
   "cell_type": "markdown",
   "metadata": {},
   "source": [
    "Python проверяет на выход за пределы диапазона допустимых индексов"
   ]
  },
  {
   "cell_type": "code",
   "execution_count": 63,
   "metadata": {},
   "outputs": [
    {
     "ename": "IndexError",
     "evalue": "string index out of range",
     "output_type": "error",
     "traceback": [
      "\u001b[0;31m---------------------------------------------------------------------------\u001b[0m",
      "\u001b[0;31mIndexError\u001b[0m                                Traceback (most recent call last)",
      "\u001b[0;32m<ipython-input-63-946ded499894>\u001b[0m in \u001b[0;36m<module>\u001b[0;34m\u001b[0m\n\u001b[0;32m----> 1\u001b[0;31m \u001b[0ma\u001b[0m\u001b[0;34m[\u001b[0m\u001b[0mlen\u001b[0m\u001b[0;34m(\u001b[0m\u001b[0ma\u001b[0m\u001b[0;34m)\u001b[0m \u001b[0;34m+\u001b[0m \u001b[0;36m1\u001b[0m\u001b[0;34m]\u001b[0m\u001b[0;34m\u001b[0m\u001b[0;34m\u001b[0m\u001b[0m\n\u001b[0m",
      "\u001b[0;31mIndexError\u001b[0m: string index out of range"
     ]
    }
   ],
   "source": [
    "a[len(a) + 1]"
   ]
  },
  {
   "cell_type": "markdown",
   "metadata": {},
   "source": [
    "Но что если нам нужно получить какую-то подстроку? Здесь на помощь нам приходит синтаксис срезов"
   ]
  },
  {
   "cell_type": "code",
   "execution_count": 61,
   "metadata": {},
   "outputs": [
    {
     "data": {
      "text/plain": [
       "('he', 'he', 'el', 'hlo')"
      ]
     },
     "execution_count": 61,
     "metadata": {},
     "output_type": "execute_result"
    }
   ],
   "source": [
    "a[0:2], a[:], a[-4:3], a[::2]"
   ]
  },
  {
   "cell_type": "markdown",
   "metadata": {},
   "source": [
    "Особенности срезов\n",
    "* `[:n]` - от начала до n-го символа, не включая его\n",
    "* `[k:n]` - от k-го (включая) до n-го символа (не включая)\n",
    "* `[k:]` - от k-го (включая) до конца\n",
    "* `[:]` - по сути копирование от начала и до конца\n",
    "* `[k:n:s]` - отбирать элементы с шагом s"
   ]
  },
  {
   "cell_type": "markdown",
   "metadata": {},
   "source": [
    "# Cпецсимволы\n",
    "\n",
    "Все спецсимволы начинаются с __'\\\\'__\n",
    "* `\"\\t\"` - табуляция\n",
    "* `\"\\n\"` - новая строка\n",
    "* `\"\\r\"` - перевод каретки в начало строки\n",
    "* `\\\\` - экранированный символ \\\n",
    "* `\\' \\\"` - сохранение качек\n",
    "* `\\x0F` - символ в 16-ом представлении\n",
    "* и другие"
   ]
  },
  {
   "cell_type": "code",
   "execution_count": 9,
   "metadata": {},
   "outputs": [
    {
     "name": "stdout",
     "output_type": "stream",
     "text": [
      "hello\n",
      "\tworld\n",
      "\"строка\"\n"
     ]
    },
    {
     "data": {
      "text/plain": [
       "'hello\\n\\tworld\\n\"строка\"'"
      ]
     },
     "execution_count": 9,
     "metadata": {},
     "output_type": "execute_result"
    }
   ],
   "source": [
    "a = \"hello\\n\\tworld\\n\\\"строка\\\"\"\n",
    "print(a)\n",
    "a"
   ]
  },
  {
   "cell_type": "markdown",
   "metadata": {},
   "source": [
    "# Форматирование строк"
   ]
  },
  {
   "cell_type": "markdown",
   "metadata": {},
   "source": [
    "Если бы захотели вывести красивое сообщение с результатом какого-то вычисления, то мы могли бы сделать так"
   ]
  },
  {
   "cell_type": "code",
   "execution_count": 71,
   "metadata": {},
   "outputs": [
    {
     "name": "stdout",
     "output_type": "stream",
     "text": [
      "Результат сложения 5 и 3 - это 8.\n"
     ]
    }
   ],
   "source": [
    "a = 5\n",
    "b = 3\n",
    "c = a + b\n",
    "\n",
    "# Помним, что мы не можем сложить строку и число\n",
    "msg = \"Результат сложения \" + str(a) + \" и \" + str(b) + \" - это \" + str(c) + \".\"\n",
    "print(msg)"
   ]
  },
  {
   "cell_type": "markdown",
   "metadata": {},
   "source": [
    "Это крайне неудобно, долго и приводит к ошибкам. Поэтому есть синтаксис форматирования строк. На данный помент их существует два: через % и метод format (или f-строка)."
   ]
  },
  {
   "cell_type": "markdown",
   "metadata": {},
   "source": [
    "## Старый стиль\n",
    "\n",
    "Для использования старого стиля, мы расставляем маркеры в тексте, которые нужно заменить значениями переменных. Каждый маркер состоит из '%' и цифры+буква. Полный синтаксис маркера (https://docs.python.org/3.4/library/string.html#formatspec)\n",
    "```\n",
    "%[(ключ)][флаг][ширина][.точность]код\n",
    "```\n",
    "\n",
    "Доступны следующие коды:\n",
    "* s - строковое представление\n",
    "* r - repr-представление\n",
    "* d - целое десятичное число\n",
    "* x или X - целое 16-е число\n",
    "* f - вещественное число"
   ]
  },
  {
   "cell_type": "code",
   "execution_count": 82,
   "metadata": {},
   "outputs": [
    {
     "name": "stdout",
     "output_type": "stream",
     "text": [
      "hi hi\n"
     ]
    }
   ],
   "source": [
    "a = \"%s\"\n",
    "print(a % \"hi\", \"%s\" % \"hi\")"
   ]
  },
  {
   "cell_type": "code",
   "execution_count": 77,
   "metadata": {},
   "outputs": [
    {
     "name": "stdout",
     "output_type": "stream",
     "text": [
      "Результат деления [%d] на [%3d] - это %.2f\n"
     ]
    }
   ],
   "source": [
    "a = \"Результат деления [%d] на [%3d] - это %.2f\"\n",
    "print(a)"
   ]
  },
  {
   "cell_type": "code",
   "execution_count": 78,
   "metadata": {},
   "outputs": [
    {
     "data": {
      "text/plain": [
       "'Результат деления [5] на [  2] - это 2.50'"
      ]
     },
     "execution_count": 78,
     "metadata": {},
     "output_type": "execute_result"
    }
   ],
   "source": [
    "a % (5, 2, 5/2)"
   ]
  },
  {
   "cell_type": "code",
   "execution_count": 79,
   "metadata": {},
   "outputs": [
    {
     "data": {
      "text/plain": [
       "'Результат деления 5 на   2 - это 2.50'"
      ]
     },
     "execution_count": 79,
     "metadata": {},
     "output_type": "execute_result"
    }
   ],
   "source": [
    "a = \"Результат деления %(first)d на %(second)3d - это %(result).2f\"\n",
    "a % {\n",
    "    \"first\": 5,\n",
    "    \"second\": 2,\n",
    "    \"result\": 5/2,\n",
    "}"
   ]
  },
  {
   "cell_type": "markdown",
   "metadata": {},
   "source": [
    "## Новый стиль\n",
    "\n",
    "Новый стиль отличается синтаксисом маркера - вместо % используются фигурные скобки и метод format"
   ]
  },
  {
   "cell_type": "code",
   "execution_count": 80,
   "metadata": {},
   "outputs": [
    {
     "data": {
      "text/plain": [
       "'Hello world'"
      ]
     },
     "execution_count": 80,
     "metadata": {},
     "output_type": "execute_result"
    }
   ],
   "source": [
    "a = \"Hello {}\"\n",
    "a.format(\"world\")"
   ]
  },
  {
   "cell_type": "markdown",
   "metadata": {},
   "source": [
    "Можно использовать позиционную вставку"
   ]
  },
  {
   "cell_type": "code",
   "execution_count": 12,
   "metadata": {},
   "outputs": [
    {
     "data": {
      "text/plain": [
       "'hello world hello hello'"
      ]
     },
     "execution_count": 12,
     "metadata": {},
     "output_type": "execute_result"
    }
   ],
   "source": [
    "a = \"{1} {0} {1} {1}\"\n",
    "a.format(\"world\", \"hello\")"
   ]
  },
  {
   "cell_type": "markdown",
   "metadata": {},
   "source": [
    "А можно вставлять по ключу"
   ]
  },
  {
   "cell_type": "code",
   "execution_count": 83,
   "metadata": {},
   "outputs": [
    {
     "data": {
      "text/plain": [
       "'Hello World'"
      ]
     },
     "execution_count": 83,
     "metadata": {},
     "output_type": "execute_result"
    }
   ],
   "source": [
    "\"{first} {second}\".format(second=\"World\", first=\"Hello\")"
   ]
  },
  {
   "cell_type": "markdown",
   "metadata": {},
   "source": [
    "Можно даже доставать атрибуты модулей или объектов (для словарей использовать можно [])"
   ]
  },
  {
   "cell_type": "code",
   "execution_count": 91,
   "metadata": {},
   "outputs": [
    {
     "data": {
      "text/plain": [
       "'hello world'"
      ]
     },
     "execution_count": 91,
     "metadata": {},
     "output_type": "execute_result"
    }
   ],
   "source": [
    "import sys\n",
    "\n",
    "\"{0.platform}\".format(sys)\n",
    "\"{d[s]}\".format(d={\"s\": \"hello world\"})"
   ]
  },
  {
   "cell_type": "markdown",
   "metadata": {},
   "source": [
    "Так можно использовать расширенное форматирование, как и в случае \"%\""
   ]
  },
  {
   "cell_type": "code",
   "execution_count": 13,
   "metadata": {},
   "outputs": [
    {
     "data": {
      "text/plain": [
       "'Число равно 3.14159'"
      ]
     },
     "execution_count": 13,
     "metadata": {},
     "output_type": "execute_result"
    }
   ],
   "source": [
    "import math\n",
    "\"Число равно {:.5f}\".format(math.pi)"
   ]
  },
  {
   "cell_type": "markdown",
   "metadata": {},
   "source": [
    "# Остановка программы по требованию\n",
    "\n",
    "> `exit()` - останавливает выполнение программы и выходит из неё. Можно передать внутри первым аргументом код, который вернет программа по завершению. Традиционно 0 - нет ошибок, все остальное - программа завершилась с ошибкой."
   ]
  },
  {
   "cell_type": "code",
   "execution_count": null,
   "metadata": {},
   "outputs": [],
   "source": [
    "if True:\n",
    "    exit(1) # можно просто exit()\n",
    "    \n",
    "print(\"Эта строка никогда не будет напечатана\")"
   ]
  },
  {
   "cell_type": "markdown",
   "metadata": {},
   "source": [
    "# Домашнее задание\n",
    "\n",
    "Вам нужно написать программу, которая будет просить пользователя ввести число от 0 до 99. Затем ваша программа должна вывести данное число прописью. Дополнительно, ваша программа должна проверять корректность ввода пользователя и сообщать ему о том, что он ввел неправильную строку.\n",
    "\n",
    "__Пример:__\n",
    "\n",
    "* Вход: 23\n",
    "* Вывод: двадцать три\n",
    "\n",
    "\n",
    "* Вход: foo\n",
    "* Вывод: Вы должны ввести число"
   ]
  }
 ],
 "metadata": {
  "kernelspec": {
   "display_name": "Python 3",
   "language": "python",
   "name": "python3"
  },
  "language_info": {
   "codemirror_mode": {
    "name": "ipython",
    "version": 3
   },
   "file_extension": ".py",
   "mimetype": "text/x-python",
   "name": "python",
   "nbconvert_exporter": "python",
   "pygments_lexer": "ipython3",
   "version": "3.8.5"
  }
 },
 "nbformat": 4,
 "nbformat_minor": 4
}
