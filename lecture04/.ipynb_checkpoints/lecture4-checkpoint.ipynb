{
 "cells": [
  {
   "cell_type": "markdown",
   "metadata": {},
   "source": [
    "# Лекция 4. Коллекции. Циклы.\n",
    "\n",
    "* Словари\n",
    "* Цикл __while__\n",
    "* Цикл __for__"
   ]
  },
  {
   "cell_type": "markdown",
   "metadata": {},
   "source": [
    "# Словари\n",
    "\n",
    "__Словарь__ - неупорядоченная коллекция данных, которая предоставляет доступ к своим элементам по ключу.\n",
    "\n",
    "\n",
    "Создать словарь можно с помощью литерала __\"{}\"__ или __dict()__"
   ]
  },
  {
   "cell_type": "code",
   "execution_count": 141,
   "metadata": {},
   "outputs": [
    {
     "name": "stdout",
     "output_type": "stream",
     "text": [
      "{'key1': 15, 'key2': 'text'}\n",
      "{'key': 'value', 'another key': 15}\n",
      "{'key1': None, 'key2': None}\n"
     ]
    }
   ],
   "source": [
    "# Пустой словарь\n",
    "a = {}\n",
    "b = dict()\n",
    "\n",
    "# С инициализацией\n",
    "a = {\n",
    "    \"key\": [\"1\", 2],\n",
    "    (6, 6): \"value\",\n",
    "    5: {\n",
    "        \"sub\": \"pub\",\n",
    "    },\n",
    "}\n",
    "\n",
    "b = dict(key1=15, key2=\"text\")\n",
    "print(b)\n",
    "\n",
    "b = dict([\n",
    "    (\"key\", \"value\"),\n",
    "    (\"another key\", 15)\n",
    "])\n",
    "print(b)\n",
    "\n",
    "b = dict.fromkeys([\"key1\", \"key2\"])\n",
    "print(b)"
   ]
  },
  {
   "cell_type": "markdown",
   "metadata": {},
   "source": [
    "## Операции со словарями\n",
    "\n",
    "- `a[\"key\"], a.get(\"key\", None)` - полученние данных по ключу\n",
    "- `\"key\" in a` - проверка наличия ключа в словаре\n",
    "- `a.keys(), a.values()` - получение __итерируемых объектов__ с ключами и значениями\n",
    "- `a.items()` - получение __итерируемого объекта__, состоящего из кортежей (ключ, значение)\n",
    "- `a.update(b)` - обновить данные словаря с помощью другого словаря\n",
    "- `len(a)` - количество элементов в словаре\n",
    "- `del a[\"key\"], a.pop(\"key\"), a.popitem()` - удаление из словаря\n",
    "- `a.clear()` - удалить все из словаря\n",
    "- `a.copy()` - получить поверхностную копию"
   ]
  },
  {
   "cell_type": "code",
   "execution_count": 150,
   "metadata": {},
   "outputs": [
    {
     "name": "stdout",
     "output_type": "stream",
     "text": [
      "['1', 2]\n",
      "pub\n",
      "value\n"
     ]
    }
   ],
   "source": [
    "a = {\n",
    "    \"key\": [\"1\", 2],\n",
    "    (6, 6): \"value\",\n",
    "    5: {\n",
    "        \"sub\": \"pub\",\n",
    "    },\n",
    "}\n",
    "\n",
    "# получение данных\n",
    "print(a[\"key\"])\n",
    "print(a[5]['sub'])\n",
    "print(a[(6, 6)])"
   ]
  },
  {
   "cell_type": "code",
   "execution_count": 140,
   "metadata": {},
   "outputs": [
    {
     "ename": "KeyError",
     "evalue": "'dunno'",
     "output_type": "error",
     "traceback": [
      "\u001b[0;31m---------------------------------------------------------------------------\u001b[0m",
      "\u001b[0;31mKeyError\u001b[0m                                  Traceback (most recent call last)",
      "\u001b[0;32m<ipython-input-140-a90be1c2d287>\u001b[0m in \u001b[0;36m<module>\u001b[0;34m\u001b[0m\n\u001b[1;32m      1\u001b[0m \u001b[0;31m# но если ключа нет\u001b[0m\u001b[0;34m\u001b[0m\u001b[0;34m\u001b[0m\u001b[0;34m\u001b[0m\u001b[0m\n\u001b[0;32m----> 2\u001b[0;31m \u001b[0ma\u001b[0m\u001b[0;34m[\u001b[0m\u001b[0;34m\"dunno\"\u001b[0m\u001b[0;34m]\u001b[0m\u001b[0;34m\u001b[0m\u001b[0;34m\u001b[0m\u001b[0m\n\u001b[0m",
      "\u001b[0;31mKeyError\u001b[0m: 'dunno'"
     ]
    }
   ],
   "source": [
    "# но если ключа нет, то получим ошибку\n",
    "a[\"dunno\"]"
   ]
  },
  {
   "cell_type": "markdown",
   "metadata": {},
   "source": [
    "Ниже представлены способы обхода ошибки, связанной с отсутствием ключа"
   ]
  },
  {
   "cell_type": "code",
   "execution_count": 145,
   "metadata": {},
   "outputs": [
    {
     "name": "stdout",
     "output_type": "stream",
     "text": [
      "error\n"
     ]
    }
   ],
   "source": [
    "# сначала проверяем, что ключ есть\n",
    "if \"dunno\" in a:\n",
    "    print(a[\"dunno\"])\n",
    "\n",
    "# или пользоваться get, который возвращает None, если ключа нет\n",
    "a.get(\"dunno\")\n",
    "\n",
    "# или может возвращать значение по умолчанию\n",
    "a.get(\"dunno\", \"default\")\n",
    "\n",
    "# или перехватывать эту ошибку(будет рассказано в следующих лекциях)\n",
    "try:\n",
    "    a[\"dunno\"]\n",
    "except KeyError:\n",
    "    print(\"error\")"
   ]
  },
  {
   "cell_type": "markdown",
   "metadata": {},
   "source": [
    "Примеры остальных операций"
   ]
  },
  {
   "cell_type": "code",
   "execution_count": 151,
   "metadata": {},
   "outputs": [
    {
     "name": "stdout",
     "output_type": "stream",
     "text": [
      "[('key', ['1', 2]), ((6, 6), 'value'), (5, {'sub': 'pub'})]\n",
      "5 {'sub': 'pub'}\n"
     ]
    }
   ],
   "source": [
    "# получить все ключи\n",
    "# list нужен, чтобы преобразовать итерируемый объект в список\n",
    "keys = list(a.keys())\n",
    "\n",
    "# значения\n",
    "values = list(a.values())\n",
    "\n",
    "# или оба сразу\n",
    "items = list(a.items())\n",
    "print(items)\n",
    "\n",
    "# удаляем\n",
    "del a['key']\n",
    "v = a.pop((6, 6)) # выдаст ошибку, если ключа нет\n",
    "v = a.pop('dunno', 'default') # вернет значение по умолчанию, если ключа нет\n",
    "\n",
    "k, v = a.popitem()\n",
    "print(k, v)"
   ]
  },
  {
   "cell_type": "markdown",
   "metadata": {},
   "source": [
    "# Прочие коллекции\n",
    "\n",
    "Существует еще несколько весьма удобных коллекций в модуле __collections__\n",
    "\n",
    "- __namedtuple()__ - кортеж с именоваными элементами (похож на словарь)\n",
    "- __defaultdict()__ - словарь, который автоматически создает значение для несуществующих ключей"
   ]
  },
  {
   "cell_type": "code",
   "execution_count": 155,
   "metadata": {},
   "outputs": [
    {
     "name": "stdout",
     "output_type": "stream",
     "text": [
      "Point(x=5, y=10)\n",
      "5 5\n",
      "5 10\n"
     ]
    }
   ],
   "source": [
    "from collections import namedtuple, defaultdict\n",
    "\n",
    "Point = namedtuple('Point', ['x', 'y'])\n",
    "\n",
    "p = Point(x=5, y=10)\n",
    "print(p)\n",
    "print(p.x, p[0])\n",
    "x, y = p\n",
    "print(x, y)"
   ]
  },
  {
   "cell_type": "code",
   "execution_count": 162,
   "metadata": {},
   "outputs": [
    {
     "name": "stdout",
     "output_type": "stream",
     "text": [
      "5\n",
      "[]\n"
     ]
    }
   ],
   "source": [
    "a = defaultdict(lambda: 5)\n",
    "print(a[\"dunno\"])\n",
    "\n",
    "a = defaultdict(list)\n",
    "print(a[\"dunno\"])"
   ]
  },
  {
   "cell_type": "markdown",
   "metadata": {},
   "source": [
    "# Циклы\n",
    "\n",
    "Всякий раз, когда нам нужно выполнить какое-то действие несколько раз подрям, нам необходимо использовать циклы."
   ]
  },
  {
   "cell_type": "markdown",
   "metadata": {},
   "source": [
    "## while\n",
    "\n",
    "Самый простой цикл выглядит следующим образом\n",
    "\n",
    "```Python\n",
    "while <условие>:\n",
    "    <Тело цикла. Ваш код.>\n",
    "else:\n",
    "    <ваш код>\n",
    "```\n",
    "\n",
    "Данный цикл работает достаточно просто. В начале проверяется условие и если оно True, то выполняется тело цикла (также как для if). После выполнения блока, Python снова возвращается к условию и снова его проверяет. И если в этот раз, условие тоже True, то тело выполняется еще раз. И так до тех пор будет повторяться, пока условие истинно.\n",
    "\n",
    "> `break` - позволяет немедленно остановить выполнение тела цикла и вернуться в основную программу\n",
    "\n",
    "> `continue` - позволяет немедленно остановить выполнение тела цикла и перейти сразу же к началу цикла. Для while - это проверка условия.\n",
    "\n",
    "> `else` - данный блок срабатывает, если в теле цикла не сработал `break` (при этом он может там присутствовать)"
   ]
  },
  {
   "cell_type": "code",
   "execution_count": 67,
   "metadata": {},
   "outputs": [],
   "source": [
    "# бесконечный цикл\n",
    "\n",
    "while True:\n",
    "    pass"
   ]
  },
  {
   "cell_type": "markdown",
   "metadata": {},
   "source": [
    "> `pass` - пустой оператор, буквально ничего не делает"
   ]
  },
  {
   "cell_type": "code",
   "execution_count": 73,
   "metadata": {},
   "outputs": [
    {
     "name": "stdout",
     "output_type": "stream",
     "text": [
      "2\n",
      "4\n",
      "6\n",
      "8\n",
      "10\n",
      "while end\n"
     ]
    }
   ],
   "source": [
    "# Пример условия\n",
    "\n",
    "i = 0\n",
    "while i < 10:\n",
    "    i += 1\n",
    "    if i % 2:\n",
    "        continue\n",
    "    print(i)\n",
    "else:\n",
    "    print(\"while end\")"
   ]
  },
  {
   "cell_type": "code",
   "execution_count": 74,
   "metadata": {},
   "outputs": [
    {
     "name": "stdout",
     "output_type": "stream",
     "text": [
      "7\n",
      "6\n",
      "5\n",
      "4\n",
      "3\n",
      "2\n",
      "1\n"
     ]
    }
   ],
   "source": [
    "# Пример условия\n",
    "\n",
    "a = [1, 2, 3, 4, 5, 6, 7,]\n",
    "while a:\n",
    "    print(a.pop())"
   ]
  },
  {
   "cell_type": "code",
   "execution_count": 3,
   "metadata": {},
   "outputs": [
    {
     "name": "stdout",
     "output_type": "stream",
     "text": [
      "H\n",
      "e\n",
      "l\n",
      "l\n",
      "o\n"
     ]
    }
   ],
   "source": [
    "# Пример прерывания цикла\n",
    "\n",
    "s = \"Hello.World\"\n",
    "i = 0\n",
    "while i < len(s):\n",
    "    if s[i] == \".\":\n",
    "        break\n",
    "        print(\"you don't see\")\n",
    "        \n",
    "    print(s[i])\n",
    "    i += 1\n",
    "else:\n",
    "    print(\"you don't see\")"
   ]
  },
  {
   "cell_type": "markdown",
   "metadata": {},
   "source": [
    "## for\n",
    "\n",
    "Данный оператор позволяет пройтись по элементам любой последовательности или итерируемого объекта. Полный синтаксис оператора __for__\n",
    "\n",
    "```Python\n",
    "\n",
    "for <цель> in <объект>:\n",
    "    <блок кода>\n",
    "else:\n",
    "    <блок кода>\n",
    "```\n",
    "\n",
    "_Объектом_ выступает любой объект, которые поддерживает протокол итераций. При каждой итерации, получаемый элемент присваивается _цели_.\n",
    "\n",
    "Доступны __continue__ и __break__, которые работают точно также, как и для __while__.\n",
    "\n",
    "Блок __else__ срабатывает, если внутри цикла не был использован __break__."
   ]
  },
  {
   "cell_type": "code",
   "execution_count": 1,
   "metadata": {},
   "outputs": [
    {
     "name": "stdout",
     "output_type": "stream",
     "text": [
      "h\n",
      "e\n",
      "l\n",
      "l\n",
      "o\n"
     ]
    }
   ],
   "source": [
    "for c in \"hello\":\n",
    "    print(c)"
   ]
  },
  {
   "cell_type": "code",
   "execution_count": 4,
   "metadata": {},
   "outputs": [],
   "source": [
    "a = {\n",
    "    \"a\": 1,\n",
    "    \"b\": 2,\n",
    "}"
   ]
  },
  {
   "cell_type": "code",
   "execution_count": 5,
   "metadata": {},
   "outputs": [
    {
     "name": "stdout",
     "output_type": "stream",
     "text": [
      "a\n",
      "b\n"
     ]
    }
   ],
   "source": [
    "for key in a:\n",
    "    print(key)"
   ]
  },
  {
   "cell_type": "code",
   "execution_count": 6,
   "metadata": {},
   "outputs": [
    {
     "name": "stdout",
     "output_type": "stream",
     "text": [
      "1\n",
      "2\n"
     ]
    }
   ],
   "source": [
    "for value in a.values():\n",
    "    print(value)"
   ]
  },
  {
   "cell_type": "code",
   "execution_count": 7,
   "metadata": {},
   "outputs": [
    {
     "name": "stdout",
     "output_type": "stream",
     "text": [
      "a 1\n",
      "b 2\n"
     ]
    }
   ],
   "source": [
    "for key, value in a.items():\n",
    "    print(key, value)"
   ]
  },
  {
   "cell_type": "markdown",
   "metadata": {},
   "source": [
    "При этом __важно__ понимать, что цель - это обычная переменная, так что если ее перезаписать, то перезапишется она, а не элемента массива"
   ]
  },
  {
   "cell_type": "code",
   "execution_count": 9,
   "metadata": {},
   "outputs": [
    {
     "name": "stdout",
     "output_type": "stream",
     "text": [
      "[1, 2, 3]\n"
     ]
    }
   ],
   "source": [
    "a = [1, 2, 3]\n",
    "\n",
    "for el in a:\n",
    "    el = 5\n",
    "\n",
    "# не совсем то, что хотелось бы\n",
    "print(a)"
   ]
  },
  {
   "cell_type": "markdown",
   "metadata": {},
   "source": [
    "## Полезные функции для циклов\n",
    "\n",
    "> `range()` -  позволяет генерировать числа по запросу."
   ]
  },
  {
   "cell_type": "code",
   "execution_count": 12,
   "metadata": {},
   "outputs": [
    {
     "data": {
      "text/plain": [
       "[0, 1, 2, 3, 4, 5, 6, 7, 8, 9]"
      ]
     },
     "execution_count": 12,
     "metadata": {},
     "output_type": "execute_result"
    }
   ],
   "source": [
    "list(range(10))"
   ]
  },
  {
   "cell_type": "code",
   "execution_count": 13,
   "metadata": {},
   "outputs": [
    {
     "data": {
      "text/plain": [
       "[5, 6, 7, 8, 9]"
      ]
     },
     "execution_count": 13,
     "metadata": {},
     "output_type": "execute_result"
    }
   ],
   "source": [
    "list(range(5, 10))"
   ]
  },
  {
   "cell_type": "code",
   "execution_count": 16,
   "metadata": {},
   "outputs": [
    {
     "data": {
      "text/plain": [
       "[0, 2, 4, 6, 8]"
      ]
     },
     "execution_count": 16,
     "metadata": {},
     "output_type": "execute_result"
    }
   ],
   "source": [
    "list(range(0, 10, 2))"
   ]
  },
  {
   "cell_type": "markdown",
   "metadata": {},
   "source": [
    "Данную функцию очень удобно использовать для генерации индексов"
   ]
  },
  {
   "cell_type": "code",
   "execution_count": 17,
   "metadata": {},
   "outputs": [
    {
     "name": "stdout",
     "output_type": "stream",
     "text": [
      "[0, 0, 0]\n"
     ]
    }
   ],
   "source": [
    "a = [1, 2, 3]\n",
    "\n",
    "for i in range(len(a)):\n",
    "    a[i] = 0\n",
    "\n",
    "print(a)"
   ]
  },
  {
   "cell_type": "markdown",
   "metadata": {},
   "source": [
    "> `zip()` - _\"склеивает\"_ элементы списков в кортежи, пока это возможно сделать."
   ]
  },
  {
   "cell_type": "code",
   "execution_count": 18,
   "metadata": {},
   "outputs": [
    {
     "name": "stdout",
     "output_type": "stream",
     "text": [
      "1 4\n",
      "2 5\n",
      "3 6\n"
     ]
    }
   ],
   "source": [
    "a = [1, 2, 3]\n",
    "b = [4, 5, 6]\n",
    "\n",
    "for el_a, el_b in zip(a, b):\n",
    "    print(el_a, el_b)"
   ]
  },
  {
   "cell_type": "code",
   "execution_count": 19,
   "metadata": {},
   "outputs": [
    {
     "data": {
      "text/plain": [
       "[(1, 4), (2, 5), (3, 6)]"
      ]
     },
     "execution_count": 19,
     "metadata": {},
     "output_type": "execute_result"
    }
   ],
   "source": [
    "list(zip(a, b))"
   ]
  },
  {
   "cell_type": "code",
   "execution_count": 24,
   "metadata": {},
   "outputs": [
    {
     "name": "stdout",
     "output_type": "stream",
     "text": [
      "H F\n",
      "i o\n"
     ]
    }
   ],
   "source": [
    "for a, b in zip(\"Hi\", \"Foo\"):\n",
    "    print(a, b)"
   ]
  },
  {
   "cell_type": "markdown",
   "metadata": {},
   "source": [
    "Например, иногда очень удобно использовать для создание словарей"
   ]
  },
  {
   "cell_type": "code",
   "execution_count": 25,
   "metadata": {},
   "outputs": [
    {
     "name": "stdout",
     "output_type": "stream",
     "text": [
      "{'H': 'F', 'i': 'o'}\n"
     ]
    }
   ],
   "source": [
    "d = dict(zip(\"Hi\", \"Foo\"))\n",
    "print(d)"
   ]
  },
  {
   "cell_type": "markdown",
   "metadata": {},
   "source": [
    "> `map()` - позволяет очень быстро отобразить функцию на последовательность (работает быстрее for)."
   ]
  },
  {
   "cell_type": "code",
   "execution_count": 21,
   "metadata": {},
   "outputs": [
    {
     "name": "stdout",
     "output_type": "stream",
     "text": [
      "<map object at 0x7fede9663c50>\n",
      "[1, 2, 3, 4]\n"
     ]
    }
   ],
   "source": [
    "a = [\"1\", \"2\", \"3\", \"4\"]\n",
    "\n",
    "# обратите внимание на int без скобок\n",
    "result = map(int, a)\n",
    "\n",
    "# видим, что это объект, а не конкретный результат\n",
    "print(result)\n",
    "\n",
    "print(list(result))"
   ]
  },
  {
   "cell_type": "markdown",
   "metadata": {},
   "source": [
    "> `enumerate()` - позволяет генерировать индекс элемента и сам элемент"
   ]
  },
  {
   "cell_type": "code",
   "execution_count": 31,
   "metadata": {},
   "outputs": [
    {
     "name": "stdout",
     "output_type": "stream",
     "text": [
      "s[00] = 'H'\n",
      "s[01] = 'e'\n",
      "s[02] = 'l'\n",
      "s[03] = 'l'\n",
      "s[04] = 'o'\n",
      "s[05] = ' '\n",
      "s[06] = 'W'\n",
      "s[07] = 'o'\n",
      "s[08] = 'r'\n",
      "s[09] = 'l'\n",
      "s[10] = 'd'\n"
     ]
    }
   ],
   "source": [
    "for i, c in enumerate(\"Hello World\"):\n",
    "    # используем форматирование, чтобы индекс выглядел красиво\n",
    "    print(f\"s[{i:02d}] = '{c}'\")"
   ]
  },
  {
   "cell_type": "markdown",
   "metadata": {},
   "source": [
    "# Домашнее задание\n",
    "\n",
    "Необходимо найти все [простые числа](https://ru.wikipedia.org/wiki/%D0%9F%D1%80%D0%BE%D1%81%D1%82%D0%BE%D0%B5_%D1%87%D0%B8%D1%81%D0%BB%D0%BE) от 2 до N, где N - это число которое должен ввести пользователь. Для поиска простых чисел __необходимо__ использовать [решето Эратосфена](https://ru.wikipedia.org/wiki/%D0%A0%D0%B5%D1%88%D0%B5%D1%82%D0%BE_%D0%AD%D1%80%D0%B0%D1%82%D0%BE%D1%81%D1%84%D0%B5%D0%BD%D0%B0).\n",
    "\n",
    "Все также нужно обрабатывать некорректный ввод пользователя.\n",
    "\n",
    "Каждое полученное простое число должно быть выведено в отдельной строке."
   ]
  },
  {
   "cell_type": "code",
   "execution_count": null,
   "metadata": {},
   "outputs": [],
   "source": []
  }
 ],
 "metadata": {
  "kernelspec": {
   "display_name": "Python 3",
   "language": "python",
   "name": "python3"
  },
  "language_info": {
   "codemirror_mode": {
    "name": "ipython",
    "version": 3
   },
   "file_extension": ".py",
   "mimetype": "text/x-python",
   "name": "python",
   "nbconvert_exporter": "python",
   "pygments_lexer": "ipython3",
   "version": "3.8.5"
  }
 },
 "nbformat": 4,
 "nbformat_minor": 4
}
